{
 "cells": [
  {
   "cell_type": "markdown",
   "id": "0c3b73e3",
   "metadata": {},
   "source": [
    "## 4.10.1 Import libraries and data\n",
    "## 4.10.2 PII data check and cleaning\n",
    "## 4.10.3 Creating \"Region column\" and analyse \n",
    "## 4.10.4 User Activity Flag\n",
    "## 4.10.5 Defining Customer Profiles\n",
    "## 4.10.6 Customer Profiles Visualizations\n",
    "## 4.10.7 Aggregated values for profiles (usage and expenditure)\n",
    "## 4.10.8-9 Profiles X Regions & Departments"
   ]
  },
  {
   "cell_type": "code",
   "execution_count": null,
   "id": "9785b610",
   "metadata": {},
   "outputs": [],
   "source": []
  },
  {
   "cell_type": "markdown",
   "id": "61ffddcd",
   "metadata": {},
   "source": [
    "## 4.10.1 Import libraries and data"
   ]
  },
  {
   "cell_type": "code",
   "execution_count": 1,
   "id": "9e8aa899",
   "metadata": {},
   "outputs": [],
   "source": [
    "# import libraries\n",
    "import pandas as pd\n",
    "import numpy as np\n",
    "import os\n",
    "import seaborn as sns\n",
    "import matplotlib.pyplot as plt\n",
    "import scipy"
   ]
  },
  {
   "cell_type": "code",
   "execution_count": 2,
   "id": "8b7ecc7b",
   "metadata": {},
   "outputs": [],
   "source": [
    "# import data\n",
    "path = r'C:\\Users\\darii\\Documents\\10-2023 Instacart Basket Analysis'\n",
    "df = pd.read_pickle(os.path.join(path, '02 Data', 'Prepared Data', 'ords_prods_custs.pkl'))"
   ]
  },
  {
   "cell_type": "markdown",
   "id": "60b4e14a",
   "metadata": {},
   "source": [
    "## 4.10.2 PII data check and cleaning"
   ]
  },
  {
   "cell_type": "code",
   "execution_count": 3,
   "id": "e2c34ea5",
   "metadata": {},
   "outputs": [
    {
     "data": {
      "text/plain": [
       "Index(['product_id', 'product_name', 'aisle_id', 'department_id', 'prices',\n",
       "       'order_id', 'user_id', 'order_number', 'orders_day_of_week',\n",
       "       'order_hour_of_day', 'days_since_prior_order', 'new_customer',\n",
       "       'add_to_cart_order', 'reordered', 'price_range_loc', 'busiest_day',\n",
       "       'busiest_days', 'busiest_period_of_day', 'max_order', 'loyalty_flag',\n",
       "       'mean_spend', 'spender_flag', 'median_days_since_prior_order',\n",
       "       'order_frequency_flag', 'name', 'surname', 'gender', 'state', 'age',\n",
       "       'date_joined', 'n_dependants', 'status', 'income', '_merge'],\n",
       "      dtype='object')"
      ]
     },
     "execution_count": 3,
     "metadata": {},
     "output_type": "execute_result"
    }
   ],
   "source": [
    "df.columns"
   ]
  },
  {
   "cell_type": "markdown",
   "id": "3e7c2286",
   "metadata": {},
   "source": [
    "##### Name and surname are PII data and need to be deleted"
   ]
  },
  {
   "cell_type": "code",
   "execution_count": 4,
   "id": "f83ed403",
   "metadata": {},
   "outputs": [],
   "source": [
    "df=df.drop(columns=['name', 'surname'])"
   ]
  },
  {
   "cell_type": "code",
   "execution_count": 5,
   "id": "8674bf27",
   "metadata": {},
   "outputs": [
    {
     "data": {
      "text/plain": [
       "Index(['product_id', 'product_name', 'aisle_id', 'department_id', 'prices',\n",
       "       'order_id', 'user_id', 'order_number', 'orders_day_of_week',\n",
       "       'order_hour_of_day', 'days_since_prior_order', 'new_customer',\n",
       "       'add_to_cart_order', 'reordered', 'price_range_loc', 'busiest_day',\n",
       "       'busiest_days', 'busiest_period_of_day', 'max_order', 'loyalty_flag',\n",
       "       'mean_spend', 'spender_flag', 'median_days_since_prior_order',\n",
       "       'order_frequency_flag', 'gender', 'state', 'age', 'date_joined',\n",
       "       'n_dependants', 'status', 'income', '_merge'],\n",
       "      dtype='object')"
      ]
     },
     "execution_count": 5,
     "metadata": {},
     "output_type": "execute_result"
    }
   ],
   "source": [
    "#check\n",
    "df.columns"
   ]
  },
  {
   "cell_type": "markdown",
   "id": "c0fae202",
   "metadata": {},
   "source": [
    "## 4.10.3 Creating \"Region column\" and analyse "
   ]
  },
  {
   "cell_type": "code",
   "execution_count": 6,
   "id": "e92d94f7",
   "metadata": {},
   "outputs": [],
   "source": [
    "# creating new 'region' column\n",
    "region = []\n",
    "for value in df ['state']:\n",
    "  if value in ['Maine','New Hampshire','Vermont','Massachusetts','Rhode Island','Connecticut','New York','Pennsylvania','New Jersey']:\n",
    "    region.append('Northeast')\n",
    "  elif value in ['Wisconsin','Michigan','Illinois','Indiana','Ohio','North Dakota','South Dakota','Nebraska','Kansas','Minnesota','Iowa','Missouri']:\n",
    "    region.append('Midwest')\n",
    "  elif value in ['Delaware','MarylandDistrict of Columbia','Virginia','West Virginia','North Carolina','South Carolina','Georgia','Florida', 'Kentucky', 'Tennessee', 'Mississippi', 'Alabama', 'Oklahoma', 'Texas', 'Arkansas', 'Louisiana']:\n",
    "    region.append('South')\n",
    "  else:\n",
    "    region.append('West')"
   ]
  },
  {
   "cell_type": "code",
   "execution_count": 7,
   "id": "078fc9b1",
   "metadata": {},
   "outputs": [],
   "source": [
    "df['region'] = region"
   ]
  },
  {
   "cell_type": "code",
   "execution_count": 8,
   "id": "d341948b",
   "metadata": {},
   "outputs": [
    {
     "data": {
      "text/html": [
       "<div>\n",
       "<style scoped>\n",
       "    .dataframe tbody tr th:only-of-type {\n",
       "        vertical-align: middle;\n",
       "    }\n",
       "\n",
       "    .dataframe tbody tr th {\n",
       "        vertical-align: top;\n",
       "    }\n",
       "\n",
       "    .dataframe thead th {\n",
       "        text-align: right;\n",
       "    }\n",
       "</style>\n",
       "<table border=\"1\" class=\"dataframe\">\n",
       "  <thead>\n",
       "    <tr style=\"text-align: right;\">\n",
       "      <th></th>\n",
       "      <th>product_id</th>\n",
       "      <th>product_name</th>\n",
       "      <th>aisle_id</th>\n",
       "      <th>department_id</th>\n",
       "      <th>prices</th>\n",
       "      <th>order_id</th>\n",
       "      <th>user_id</th>\n",
       "      <th>order_number</th>\n",
       "      <th>orders_day_of_week</th>\n",
       "      <th>order_hour_of_day</th>\n",
       "      <th>...</th>\n",
       "      <th>order_frequency_flag</th>\n",
       "      <th>gender</th>\n",
       "      <th>state</th>\n",
       "      <th>age</th>\n",
       "      <th>date_joined</th>\n",
       "      <th>n_dependants</th>\n",
       "      <th>status</th>\n",
       "      <th>income</th>\n",
       "      <th>_merge</th>\n",
       "      <th>region</th>\n",
       "    </tr>\n",
       "  </thead>\n",
       "  <tbody>\n",
       "    <tr>\n",
       "      <th>0</th>\n",
       "      <td>1</td>\n",
       "      <td>Chocolate Sandwich Cookies</td>\n",
       "      <td>61</td>\n",
       "      <td>19</td>\n",
       "      <td>5.8</td>\n",
       "      <td>3139998</td>\n",
       "      <td>138</td>\n",
       "      <td>28</td>\n",
       "      <td>6</td>\n",
       "      <td>11</td>\n",
       "      <td>...</td>\n",
       "      <td>Frequent customer</td>\n",
       "      <td>Male</td>\n",
       "      <td>Minnesota</td>\n",
       "      <td>81</td>\n",
       "      <td>2019-08-01</td>\n",
       "      <td>1</td>\n",
       "      <td>married</td>\n",
       "      <td>49620</td>\n",
       "      <td>both</td>\n",
       "      <td>Midwest</td>\n",
       "    </tr>\n",
       "    <tr>\n",
       "      <th>1</th>\n",
       "      <td>1</td>\n",
       "      <td>Chocolate Sandwich Cookies</td>\n",
       "      <td>61</td>\n",
       "      <td>19</td>\n",
       "      <td>5.8</td>\n",
       "      <td>1977647</td>\n",
       "      <td>138</td>\n",
       "      <td>30</td>\n",
       "      <td>6</td>\n",
       "      <td>17</td>\n",
       "      <td>...</td>\n",
       "      <td>Frequent customer</td>\n",
       "      <td>Male</td>\n",
       "      <td>Minnesota</td>\n",
       "      <td>81</td>\n",
       "      <td>2019-08-01</td>\n",
       "      <td>1</td>\n",
       "      <td>married</td>\n",
       "      <td>49620</td>\n",
       "      <td>both</td>\n",
       "      <td>Midwest</td>\n",
       "    </tr>\n",
       "    <tr>\n",
       "      <th>2</th>\n",
       "      <td>907</td>\n",
       "      <td>Premium Sliced Bacon</td>\n",
       "      <td>106</td>\n",
       "      <td>12</td>\n",
       "      <td>20.0</td>\n",
       "      <td>3160996</td>\n",
       "      <td>138</td>\n",
       "      <td>1</td>\n",
       "      <td>5</td>\n",
       "      <td>13</td>\n",
       "      <td>...</td>\n",
       "      <td>Frequent customer</td>\n",
       "      <td>Male</td>\n",
       "      <td>Minnesota</td>\n",
       "      <td>81</td>\n",
       "      <td>2019-08-01</td>\n",
       "      <td>1</td>\n",
       "      <td>married</td>\n",
       "      <td>49620</td>\n",
       "      <td>both</td>\n",
       "      <td>Midwest</td>\n",
       "    </tr>\n",
       "    <tr>\n",
       "      <th>3</th>\n",
       "      <td>907</td>\n",
       "      <td>Premium Sliced Bacon</td>\n",
       "      <td>106</td>\n",
       "      <td>12</td>\n",
       "      <td>20.0</td>\n",
       "      <td>2254091</td>\n",
       "      <td>138</td>\n",
       "      <td>10</td>\n",
       "      <td>5</td>\n",
       "      <td>14</td>\n",
       "      <td>...</td>\n",
       "      <td>Frequent customer</td>\n",
       "      <td>Male</td>\n",
       "      <td>Minnesota</td>\n",
       "      <td>81</td>\n",
       "      <td>2019-08-01</td>\n",
       "      <td>1</td>\n",
       "      <td>married</td>\n",
       "      <td>49620</td>\n",
       "      <td>both</td>\n",
       "      <td>Midwest</td>\n",
       "    </tr>\n",
       "    <tr>\n",
       "      <th>4</th>\n",
       "      <td>1000</td>\n",
       "      <td>Apricots</td>\n",
       "      <td>18</td>\n",
       "      <td>10</td>\n",
       "      <td>12.9</td>\n",
       "      <td>505689</td>\n",
       "      <td>138</td>\n",
       "      <td>9</td>\n",
       "      <td>6</td>\n",
       "      <td>12</td>\n",
       "      <td>...</td>\n",
       "      <td>Frequent customer</td>\n",
       "      <td>Male</td>\n",
       "      <td>Minnesota</td>\n",
       "      <td>81</td>\n",
       "      <td>2019-08-01</td>\n",
       "      <td>1</td>\n",
       "      <td>married</td>\n",
       "      <td>49620</td>\n",
       "      <td>both</td>\n",
       "      <td>Midwest</td>\n",
       "    </tr>\n",
       "  </tbody>\n",
       "</table>\n",
       "<p>5 rows × 33 columns</p>\n",
       "</div>"
      ],
      "text/plain": [
       "   product_id                product_name  aisle_id  department_id  prices  \\\n",
       "0           1  Chocolate Sandwich Cookies        61             19     5.8   \n",
       "1           1  Chocolate Sandwich Cookies        61             19     5.8   \n",
       "2         907        Premium Sliced Bacon       106             12    20.0   \n",
       "3         907        Premium Sliced Bacon       106             12    20.0   \n",
       "4        1000                    Apricots        18             10    12.9   \n",
       "\n",
       "   order_id user_id  order_number  orders_day_of_week  order_hour_of_day  ...  \\\n",
       "0   3139998     138            28                   6                 11  ...   \n",
       "1   1977647     138            30                   6                 17  ...   \n",
       "2   3160996     138             1                   5                 13  ...   \n",
       "3   2254091     138            10                   5                 14  ...   \n",
       "4    505689     138             9                   6                 12  ...   \n",
       "\n",
       "   order_frequency_flag  gender      state  age date_joined n_dependants  \\\n",
       "0     Frequent customer    Male  Minnesota   81  2019-08-01            1   \n",
       "1     Frequent customer    Male  Minnesota   81  2019-08-01            1   \n",
       "2     Frequent customer    Male  Minnesota   81  2019-08-01            1   \n",
       "3     Frequent customer    Male  Minnesota   81  2019-08-01            1   \n",
       "4     Frequent customer    Male  Minnesota   81  2019-08-01            1   \n",
       "\n",
       "    status income  _merge   region  \n",
       "0  married  49620    both  Midwest  \n",
       "1  married  49620    both  Midwest  \n",
       "2  married  49620    both  Midwest  \n",
       "3  married  49620    both  Midwest  \n",
       "4  married  49620    both  Midwest  \n",
       "\n",
       "[5 rows x 33 columns]"
      ]
     },
     "execution_count": 8,
     "metadata": {},
     "output_type": "execute_result"
    }
   ],
   "source": [
    "# check\n",
    "df.head(5)"
   ]
  },
  {
   "cell_type": "code",
   "execution_count": 9,
   "id": "c70a88dc",
   "metadata": {},
   "outputs": [],
   "source": [
    "# crosstab regions and spender flag\n",
    "crosstab = pd.crosstab(df['region'], df['spender_flag'], dropna = False)"
   ]
  },
  {
   "cell_type": "code",
   "execution_count": 10,
   "id": "37a8e4ca",
   "metadata": {},
   "outputs": [
    {
     "data": {
      "text/html": [
       "<div>\n",
       "<style scoped>\n",
       "    .dataframe tbody tr th:only-of-type {\n",
       "        vertical-align: middle;\n",
       "    }\n",
       "\n",
       "    .dataframe tbody tr th {\n",
       "        vertical-align: top;\n",
       "    }\n",
       "\n",
       "    .dataframe thead th {\n",
       "        text-align: right;\n",
       "    }\n",
       "</style>\n",
       "<table border=\"1\" class=\"dataframe\">\n",
       "  <thead>\n",
       "    <tr style=\"text-align: right;\">\n",
       "      <th>spender_flag</th>\n",
       "      <th>High spender</th>\n",
       "      <th>Low spender</th>\n",
       "    </tr>\n",
       "    <tr>\n",
       "      <th>region</th>\n",
       "      <th></th>\n",
       "      <th></th>\n",
       "    </tr>\n",
       "  </thead>\n",
       "  <tbody>\n",
       "    <tr>\n",
       "      <th>Midwest</th>\n",
       "      <td>155975</td>\n",
       "      <td>7441350</td>\n",
       "    </tr>\n",
       "    <tr>\n",
       "      <th>Northeast</th>\n",
       "      <td>108225</td>\n",
       "      <td>5614511</td>\n",
       "    </tr>\n",
       "    <tr>\n",
       "      <th>South</th>\n",
       "      <td>185284</td>\n",
       "      <td>9366327</td>\n",
       "    </tr>\n",
       "    <tr>\n",
       "      <th>West</th>\n",
       "      <td>184761</td>\n",
       "      <td>9348426</td>\n",
       "    </tr>\n",
       "  </tbody>\n",
       "</table>\n",
       "</div>"
      ],
      "text/plain": [
       "spender_flag  High spender  Low spender\n",
       "region                                 \n",
       "Midwest             155975      7441350\n",
       "Northeast           108225      5614511\n",
       "South               185284      9366327\n",
       "West                184761      9348426"
      ]
     },
     "execution_count": 10,
     "metadata": {},
     "output_type": "execute_result"
    }
   ],
   "source": [
    "# output\n",
    "crosstab"
   ]
  },
  {
   "cell_type": "code",
   "execution_count": 11,
   "id": "a48f913c",
   "metadata": {},
   "outputs": [
    {
     "data": {
      "image/png": "[encoded data removed]",
      "text/plain": [
       "<Figure size 640x480 with 1 Axes>"
      ]
     },
     "metadata": {},
     "output_type": "display_data"
    }
   ],
   "source": [
    "bar_reg_spend = crosstab.plot.bar()"
   ]
  },
  {
   "cell_type": "markdown",
   "id": "e5204ba5",
   "metadata": {},
   "source": [
    "##### no correlation found"
   ]
  },
  {
   "cell_type": "code",
   "execution_count": 12,
   "id": "ece5fb6d",
   "metadata": {},
   "outputs": [],
   "source": [
    "bar_reg_spend.figure.savefig(os.path.join(path, '04 Analysis','Visualizations', 'bar_reg_spend'))"
   ]
  },
  {
   "cell_type": "markdown",
   "id": "0e7fc8c2",
   "metadata": {},
   "source": [
    "## 4.10.4 User Activity Flag"
   ]
  },
  {
   "cell_type": "code",
   "execution_count": 13,
   "id": "24ed7ad0",
   "metadata": {},
   "outputs": [
    {
     "name": "stderr",
     "output_type": "stream",
     "text": [
      "C:\\Users\\darii\\AppData\\Local\\Temp\\ipykernel_36728\\3784287103.py:2: FutureWarning: Setting an item of incompatible dtype is deprecated and will raise in a future error of pandas. Value 'Low activity' has dtype incompatible with float64, please explicitly cast to a compatible dtype first.\n",
      "  df.loc[df['max_order'] < 5, 'activity_flag'] = 'Low activity'\n"
     ]
    }
   ],
   "source": [
    "# activity flag\n",
    "df.loc[df['max_order'] < 5, 'activity_flag'] = 'Low activity'"
   ]
  },
  {
   "cell_type": "code",
   "execution_count": 14,
   "id": "f33ddf15",
   "metadata": {},
   "outputs": [],
   "source": [
    "df.loc[df['max_order'] >= 5, 'activity_flag'] = 'Normal activity'"
   ]
  },
  {
   "cell_type": "code",
   "execution_count": 15,
   "id": "47cf8d02",
   "metadata": {},
   "outputs": [
    {
     "data": {
      "text/plain": [
       "activity_flag\n",
       "Normal activity    30964564\n",
       "Low activity        1440295\n",
       "Name: count, dtype: int64"
      ]
     },
     "execution_count": 15,
     "metadata": {},
     "output_type": "execute_result"
    }
   ],
   "source": [
    "# check\n",
    "df['activity_flag'].value_counts(dropna = False)"
   ]
  },
  {
   "cell_type": "code",
   "execution_count": 16,
   "id": "3e8f06cf",
   "metadata": {},
   "outputs": [],
   "source": [
    "df['activity_flag'] = df['activity_flag'].astype('str')"
   ]
  },
  {
   "cell_type": "code",
   "execution_count": 17,
   "id": "491870e2",
   "metadata": {},
   "outputs": [],
   "source": [
    "# df with active customers only\n",
    "df_active = df[df['activity_flag'] == 'Normal activity']"
   ]
  },
  {
   "cell_type": "code",
   "execution_count": 18,
   "id": "a9cbd677",
   "metadata": {},
   "outputs": [
    {
     "data": {
      "text/plain": [
       "(30964564, 34)"
      ]
     },
     "execution_count": 18,
     "metadata": {},
     "output_type": "execute_result"
    }
   ],
   "source": [
    "# check\n",
    "df_active.shape"
   ]
  },
  {
   "cell_type": "code",
   "execution_count": 19,
   "id": "77feea81",
   "metadata": {},
   "outputs": [
    {
     "data": {
      "text/html": [
       "<div>\n",
       "<style scoped>\n",
       "    .dataframe tbody tr th:only-of-type {\n",
       "        vertical-align: middle;\n",
       "    }\n",
       "\n",
       "    .dataframe tbody tr th {\n",
       "        vertical-align: top;\n",
       "    }\n",
       "\n",
       "    .dataframe thead th {\n",
       "        text-align: right;\n",
       "    }\n",
       "</style>\n",
       "<table border=\"1\" class=\"dataframe\">\n",
       "  <thead>\n",
       "    <tr style=\"text-align: right;\">\n",
       "      <th></th>\n",
       "      <th>product_id</th>\n",
       "      <th>product_name</th>\n",
       "      <th>aisle_id</th>\n",
       "      <th>department_id</th>\n",
       "      <th>prices</th>\n",
       "      <th>order_id</th>\n",
       "      <th>user_id</th>\n",
       "      <th>order_number</th>\n",
       "      <th>orders_day_of_week</th>\n",
       "      <th>order_hour_of_day</th>\n",
       "      <th>...</th>\n",
       "      <th>gender</th>\n",
       "      <th>state</th>\n",
       "      <th>age</th>\n",
       "      <th>date_joined</th>\n",
       "      <th>n_dependants</th>\n",
       "      <th>status</th>\n",
       "      <th>income</th>\n",
       "      <th>_merge</th>\n",
       "      <th>region</th>\n",
       "      <th>activity_flag</th>\n",
       "    </tr>\n",
       "  </thead>\n",
       "  <tbody>\n",
       "    <tr>\n",
       "      <th>0</th>\n",
       "      <td>1</td>\n",
       "      <td>Chocolate Sandwich Cookies</td>\n",
       "      <td>61</td>\n",
       "      <td>19</td>\n",
       "      <td>5.8</td>\n",
       "      <td>3139998</td>\n",
       "      <td>138</td>\n",
       "      <td>28</td>\n",
       "      <td>6</td>\n",
       "      <td>11</td>\n",
       "      <td>...</td>\n",
       "      <td>Male</td>\n",
       "      <td>Minnesota</td>\n",
       "      <td>81</td>\n",
       "      <td>2019-08-01</td>\n",
       "      <td>1</td>\n",
       "      <td>married</td>\n",
       "      <td>49620</td>\n",
       "      <td>both</td>\n",
       "      <td>Midwest</td>\n",
       "      <td>Normal activity</td>\n",
       "    </tr>\n",
       "    <tr>\n",
       "      <th>1</th>\n",
       "      <td>1</td>\n",
       "      <td>Chocolate Sandwich Cookies</td>\n",
       "      <td>61</td>\n",
       "      <td>19</td>\n",
       "      <td>5.8</td>\n",
       "      <td>1977647</td>\n",
       "      <td>138</td>\n",
       "      <td>30</td>\n",
       "      <td>6</td>\n",
       "      <td>17</td>\n",
       "      <td>...</td>\n",
       "      <td>Male</td>\n",
       "      <td>Minnesota</td>\n",
       "      <td>81</td>\n",
       "      <td>2019-08-01</td>\n",
       "      <td>1</td>\n",
       "      <td>married</td>\n",
       "      <td>49620</td>\n",
       "      <td>both</td>\n",
       "      <td>Midwest</td>\n",
       "      <td>Normal activity</td>\n",
       "    </tr>\n",
       "    <tr>\n",
       "      <th>2</th>\n",
       "      <td>907</td>\n",
       "      <td>Premium Sliced Bacon</td>\n",
       "      <td>106</td>\n",
       "      <td>12</td>\n",
       "      <td>20.0</td>\n",
       "      <td>3160996</td>\n",
       "      <td>138</td>\n",
       "      <td>1</td>\n",
       "      <td>5</td>\n",
       "      <td>13</td>\n",
       "      <td>...</td>\n",
       "      <td>Male</td>\n",
       "      <td>Minnesota</td>\n",
       "      <td>81</td>\n",
       "      <td>2019-08-01</td>\n",
       "      <td>1</td>\n",
       "      <td>married</td>\n",
       "      <td>49620</td>\n",
       "      <td>both</td>\n",
       "      <td>Midwest</td>\n",
       "      <td>Normal activity</td>\n",
       "    </tr>\n",
       "    <tr>\n",
       "      <th>3</th>\n",
       "      <td>907</td>\n",
       "      <td>Premium Sliced Bacon</td>\n",
       "      <td>106</td>\n",
       "      <td>12</td>\n",
       "      <td>20.0</td>\n",
       "      <td>2254091</td>\n",
       "      <td>138</td>\n",
       "      <td>10</td>\n",
       "      <td>5</td>\n",
       "      <td>14</td>\n",
       "      <td>...</td>\n",
       "      <td>Male</td>\n",
       "      <td>Minnesota</td>\n",
       "      <td>81</td>\n",
       "      <td>2019-08-01</td>\n",
       "      <td>1</td>\n",
       "      <td>married</td>\n",
       "      <td>49620</td>\n",
       "      <td>both</td>\n",
       "      <td>Midwest</td>\n",
       "      <td>Normal activity</td>\n",
       "    </tr>\n",
       "    <tr>\n",
       "      <th>4</th>\n",
       "      <td>1000</td>\n",
       "      <td>Apricots</td>\n",
       "      <td>18</td>\n",
       "      <td>10</td>\n",
       "      <td>12.9</td>\n",
       "      <td>505689</td>\n",
       "      <td>138</td>\n",
       "      <td>9</td>\n",
       "      <td>6</td>\n",
       "      <td>12</td>\n",
       "      <td>...</td>\n",
       "      <td>Male</td>\n",
       "      <td>Minnesota</td>\n",
       "      <td>81</td>\n",
       "      <td>2019-08-01</td>\n",
       "      <td>1</td>\n",
       "      <td>married</td>\n",
       "      <td>49620</td>\n",
       "      <td>both</td>\n",
       "      <td>Midwest</td>\n",
       "      <td>Normal activity</td>\n",
       "    </tr>\n",
       "  </tbody>\n",
       "</table>\n",
       "<p>5 rows × 34 columns</p>\n",
       "</div>"
      ],
      "text/plain": [
       "   product_id                product_name  aisle_id  department_id  prices  \\\n",
       "0           1  Chocolate Sandwich Cookies        61             19     5.8   \n",
       "1           1  Chocolate Sandwich Cookies        61             19     5.8   \n",
       "2         907        Premium Sliced Bacon       106             12    20.0   \n",
       "3         907        Premium Sliced Bacon       106             12    20.0   \n",
       "4        1000                    Apricots        18             10    12.9   \n",
       "\n",
       "   order_id user_id  order_number  orders_day_of_week  order_hour_of_day  ...  \\\n",
       "0   3139998     138            28                   6                 11  ...   \n",
       "1   1977647     138            30                   6                 17  ...   \n",
       "2   3160996     138             1                   5                 13  ...   \n",
       "3   2254091     138            10                   5                 14  ...   \n",
       "4    505689     138             9                   6                 12  ...   \n",
       "\n",
       "   gender      state  age  date_joined n_dependants   status income _merge  \\\n",
       "0    Male  Minnesota   81   2019-08-01            1  married  49620   both   \n",
       "1    Male  Minnesota   81   2019-08-01            1  married  49620   both   \n",
       "2    Male  Minnesota   81   2019-08-01            1  married  49620   both   \n",
       "3    Male  Minnesota   81   2019-08-01            1  married  49620   both   \n",
       "4    Male  Minnesota   81   2019-08-01            1  married  49620   both   \n",
       "\n",
       "    region    activity_flag  \n",
       "0  Midwest  Normal activity  \n",
       "1  Midwest  Normal activity  \n",
       "2  Midwest  Normal activity  \n",
       "3  Midwest  Normal activity  \n",
       "4  Midwest  Normal activity  \n",
       "\n",
       "[5 rows x 34 columns]"
      ]
     },
     "execution_count": 19,
     "metadata": {},
     "output_type": "execute_result"
    }
   ],
   "source": [
    "df_active.head(5)"
   ]
  },
  {
   "cell_type": "code",
   "execution_count": 20,
   "id": "bb8a1267",
   "metadata": {},
   "outputs": [],
   "source": [
    "# export data\n",
    "df_active.to_pickle(os.path.join(path, '02 Data', 'Prepared Data', 'df_active.pkl'))"
   ]
  },
  {
   "cell_type": "markdown",
   "id": "213c9810",
   "metadata": {},
   "source": [
    "## 4.10.5 Defining Customer Profiles"
   ]
  },
  {
   "cell_type": "code",
   "execution_count": 21,
   "id": "c43bc9da",
   "metadata": {},
   "outputs": [],
   "source": [
    "# import departments dataset\n",
    "df_dep = pd.read_csv(os.path.join(path, '02 Data', 'Prepared Data', 'departments_wrangled.csv'))"
   ]
  },
  {
   "cell_type": "code",
   "execution_count": 22,
   "id": "283c6bd3",
   "metadata": {},
   "outputs": [
    {
     "data": {
      "text/html": [
       "<div>\n",
       "<style scoped>\n",
       "    .dataframe tbody tr th:only-of-type {\n",
       "        vertical-align: middle;\n",
       "    }\n",
       "\n",
       "    .dataframe tbody tr th {\n",
       "        vertical-align: top;\n",
       "    }\n",
       "\n",
       "    .dataframe thead th {\n",
       "        text-align: right;\n",
       "    }\n",
       "</style>\n",
       "<table border=\"1\" class=\"dataframe\">\n",
       "  <thead>\n",
       "    <tr style=\"text-align: right;\">\n",
       "      <th></th>\n",
       "      <th>Unnamed: 0</th>\n",
       "      <th>department</th>\n",
       "    </tr>\n",
       "  </thead>\n",
       "  <tbody>\n",
       "    <tr>\n",
       "      <th>0</th>\n",
       "      <td>1</td>\n",
       "      <td>frozen</td>\n",
       "    </tr>\n",
       "    <tr>\n",
       "      <th>1</th>\n",
       "      <td>2</td>\n",
       "      <td>other</td>\n",
       "    </tr>\n",
       "    <tr>\n",
       "      <th>2</th>\n",
       "      <td>3</td>\n",
       "      <td>bakery</td>\n",
       "    </tr>\n",
       "    <tr>\n",
       "      <th>3</th>\n",
       "      <td>4</td>\n",
       "      <td>produce</td>\n",
       "    </tr>\n",
       "    <tr>\n",
       "      <th>4</th>\n",
       "      <td>5</td>\n",
       "      <td>alcohol</td>\n",
       "    </tr>\n",
       "    <tr>\n",
       "      <th>5</th>\n",
       "      <td>6</td>\n",
       "      <td>international</td>\n",
       "    </tr>\n",
       "    <tr>\n",
       "      <th>6</th>\n",
       "      <td>7</td>\n",
       "      <td>beverages</td>\n",
       "    </tr>\n",
       "    <tr>\n",
       "      <th>7</th>\n",
       "      <td>8</td>\n",
       "      <td>pets</td>\n",
       "    </tr>\n",
       "    <tr>\n",
       "      <th>8</th>\n",
       "      <td>9</td>\n",
       "      <td>dry goods pasta</td>\n",
       "    </tr>\n",
       "    <tr>\n",
       "      <th>9</th>\n",
       "      <td>10</td>\n",
       "      <td>bulk</td>\n",
       "    </tr>\n",
       "    <tr>\n",
       "      <th>10</th>\n",
       "      <td>11</td>\n",
       "      <td>personal care</td>\n",
       "    </tr>\n",
       "    <tr>\n",
       "      <th>11</th>\n",
       "      <td>12</td>\n",
       "      <td>meat seafood</td>\n",
       "    </tr>\n",
       "    <tr>\n",
       "      <th>12</th>\n",
       "      <td>13</td>\n",
       "      <td>pantry</td>\n",
       "    </tr>\n",
       "    <tr>\n",
       "      <th>13</th>\n",
       "      <td>14</td>\n",
       "      <td>breakfast</td>\n",
       "    </tr>\n",
       "    <tr>\n",
       "      <th>14</th>\n",
       "      <td>15</td>\n",
       "      <td>canned goods</td>\n",
       "    </tr>\n",
       "    <tr>\n",
       "      <th>15</th>\n",
       "      <td>16</td>\n",
       "      <td>dairy eggs</td>\n",
       "    </tr>\n",
       "    <tr>\n",
       "      <th>16</th>\n",
       "      <td>17</td>\n",
       "      <td>household</td>\n",
       "    </tr>\n",
       "    <tr>\n",
       "      <th>17</th>\n",
       "      <td>18</td>\n",
       "      <td>babies</td>\n",
       "    </tr>\n",
       "    <tr>\n",
       "      <th>18</th>\n",
       "      <td>19</td>\n",
       "      <td>snacks</td>\n",
       "    </tr>\n",
       "    <tr>\n",
       "      <th>19</th>\n",
       "      <td>20</td>\n",
       "      <td>deli</td>\n",
       "    </tr>\n",
       "    <tr>\n",
       "      <th>20</th>\n",
       "      <td>21</td>\n",
       "      <td>missing</td>\n",
       "    </tr>\n",
       "  </tbody>\n",
       "</table>\n",
       "</div>"
      ],
      "text/plain": [
       "    Unnamed: 0       department\n",
       "0            1           frozen\n",
       "1            2            other\n",
       "2            3           bakery\n",
       "3            4          produce\n",
       "4            5          alcohol\n",
       "5            6    international\n",
       "6            7        beverages\n",
       "7            8             pets\n",
       "8            9  dry goods pasta\n",
       "9           10             bulk\n",
       "10          11    personal care\n",
       "11          12     meat seafood\n",
       "12          13           pantry\n",
       "13          14        breakfast\n",
       "14          15     canned goods\n",
       "15          16       dairy eggs\n",
       "16          17        household\n",
       "17          18           babies\n",
       "18          19           snacks\n",
       "19          20             deli\n",
       "20          21          missing"
      ]
     },
     "execution_count": 22,
     "metadata": {},
     "output_type": "execute_result"
    }
   ],
   "source": [
    "# check\n",
    "df_dep"
   ]
  },
  {
   "cell_type": "code",
   "execution_count": 23,
   "id": "d82f6450",
   "metadata": {},
   "outputs": [],
   "source": [
    "# creating new 'department' column\n",
    "department = []\n",
    "for value in df_active ['department_id']:\n",
    "    if value == 1:\n",
    "        department.append('frozen')\n",
    "    elif value == 2:\n",
    "        department.append('produce')\n",
    "    elif value == 3:\n",
    "        department.append('bakery')\n",
    "    elif value == 4:\n",
    "        department.append('produce')\n",
    "    elif value == 5:\n",
    "        department.append('alcohol')\n",
    "    elif value == 6:\n",
    "        department.append('international')\n",
    "    elif value == 7:\n",
    "        department.append('beverages')\n",
    "    elif value == 8:\n",
    "        department.append('pets')\n",
    "    elif value == 9:\n",
    "        department.append('dry goods pasta')\n",
    "    elif value == 10:\n",
    "        department.append('bulk')\n",
    "    elif value == 11:\n",
    "        department.append('personal care')\n",
    "    elif value == 12:\n",
    "        department.append('meat seafood')\n",
    "    elif value == 13:\n",
    "        department.append('pantry')\n",
    "    elif value == 14:\n",
    "        department.append('breakfast')\n",
    "    elif value == 15:\n",
    "        department.append('canned goods')\n",
    "    elif value == 16:\n",
    "        department.append('dairy eggs')\n",
    "    elif value == 17:\n",
    "        department.append('household')\n",
    "    elif value == 18:\n",
    "        department.append('babies')\n",
    "    elif value == 19:\n",
    "        department.append('snacks')\n",
    "    elif value == 20:\n",
    "        department.append('deli')\n",
    "    else:\n",
    "        department.append('missing')"
   ]
  },
  {
   "cell_type": "markdown",
   "id": "030d1571",
   "metadata": {},
   "source": [
    "##### no merge was used due to memory issues in the previous task :)"
   ]
  },
  {
   "cell_type": "code",
   "execution_count": 24,
   "id": "ccf84070",
   "metadata": {},
   "outputs": [
    {
     "name": "stderr",
     "output_type": "stream",
     "text": [
      "C:\\Users\\darii\\AppData\\Local\\Temp\\ipykernel_36728\\1268414873.py:1: SettingWithCopyWarning: \n",
      "A value is trying to be set on a copy of a slice from a DataFrame.\n",
      "Try using .loc[row_indexer,col_indexer] = value instead\n",
      "\n",
      "See the caveats in the documentation: https://pandas.pydata.org/pandas-docs/stable/user_guide/indexing.html#returning-a-view-versus-a-copy\n",
      "  df_active['department'] = department\n"
     ]
    }
   ],
   "source": [
    "df_active['department'] = department"
   ]
  },
  {
   "cell_type": "code",
   "execution_count": 25,
   "id": "8b1d32b7",
   "metadata": {},
   "outputs": [
    {
     "data": {
      "text/html": [
       "<div>\n",
       "<style scoped>\n",
       "    .dataframe tbody tr th:only-of-type {\n",
       "        vertical-align: middle;\n",
       "    }\n",
       "\n",
       "    .dataframe tbody tr th {\n",
       "        vertical-align: top;\n",
       "    }\n",
       "\n",
       "    .dataframe thead th {\n",
       "        text-align: right;\n",
       "    }\n",
       "</style>\n",
       "<table border=\"1\" class=\"dataframe\">\n",
       "  <thead>\n",
       "    <tr style=\"text-align: right;\">\n",
       "      <th></th>\n",
       "      <th>product_id</th>\n",
       "      <th>product_name</th>\n",
       "      <th>aisle_id</th>\n",
       "      <th>department_id</th>\n",
       "      <th>prices</th>\n",
       "      <th>order_id</th>\n",
       "      <th>user_id</th>\n",
       "      <th>order_number</th>\n",
       "      <th>orders_day_of_week</th>\n",
       "      <th>order_hour_of_day</th>\n",
       "      <th>...</th>\n",
       "      <th>state</th>\n",
       "      <th>age</th>\n",
       "      <th>date_joined</th>\n",
       "      <th>n_dependants</th>\n",
       "      <th>status</th>\n",
       "      <th>income</th>\n",
       "      <th>_merge</th>\n",
       "      <th>region</th>\n",
       "      <th>activity_flag</th>\n",
       "      <th>department</th>\n",
       "    </tr>\n",
       "  </thead>\n",
       "  <tbody>\n",
       "    <tr>\n",
       "      <th>0</th>\n",
       "      <td>1</td>\n",
       "      <td>Chocolate Sandwich Cookies</td>\n",
       "      <td>61</td>\n",
       "      <td>19</td>\n",
       "      <td>5.8</td>\n",
       "      <td>3139998</td>\n",
       "      <td>138</td>\n",
       "      <td>28</td>\n",
       "      <td>6</td>\n",
       "      <td>11</td>\n",
       "      <td>...</td>\n",
       "      <td>Minnesota</td>\n",
       "      <td>81</td>\n",
       "      <td>2019-08-01</td>\n",
       "      <td>1</td>\n",
       "      <td>married</td>\n",
       "      <td>49620</td>\n",
       "      <td>both</td>\n",
       "      <td>Midwest</td>\n",
       "      <td>Normal activity</td>\n",
       "      <td>snacks</td>\n",
       "    </tr>\n",
       "    <tr>\n",
       "      <th>1</th>\n",
       "      <td>1</td>\n",
       "      <td>Chocolate Sandwich Cookies</td>\n",
       "      <td>61</td>\n",
       "      <td>19</td>\n",
       "      <td>5.8</td>\n",
       "      <td>1977647</td>\n",
       "      <td>138</td>\n",
       "      <td>30</td>\n",
       "      <td>6</td>\n",
       "      <td>17</td>\n",
       "      <td>...</td>\n",
       "      <td>Minnesota</td>\n",
       "      <td>81</td>\n",
       "      <td>2019-08-01</td>\n",
       "      <td>1</td>\n",
       "      <td>married</td>\n",
       "      <td>49620</td>\n",
       "      <td>both</td>\n",
       "      <td>Midwest</td>\n",
       "      <td>Normal activity</td>\n",
       "      <td>snacks</td>\n",
       "    </tr>\n",
       "    <tr>\n",
       "      <th>2</th>\n",
       "      <td>907</td>\n",
       "      <td>Premium Sliced Bacon</td>\n",
       "      <td>106</td>\n",
       "      <td>12</td>\n",
       "      <td>20.0</td>\n",
       "      <td>3160996</td>\n",
       "      <td>138</td>\n",
       "      <td>1</td>\n",
       "      <td>5</td>\n",
       "      <td>13</td>\n",
       "      <td>...</td>\n",
       "      <td>Minnesota</td>\n",
       "      <td>81</td>\n",
       "      <td>2019-08-01</td>\n",
       "      <td>1</td>\n",
       "      <td>married</td>\n",
       "      <td>49620</td>\n",
       "      <td>both</td>\n",
       "      <td>Midwest</td>\n",
       "      <td>Normal activity</td>\n",
       "      <td>meat seafood</td>\n",
       "    </tr>\n",
       "    <tr>\n",
       "      <th>3</th>\n",
       "      <td>907</td>\n",
       "      <td>Premium Sliced Bacon</td>\n",
       "      <td>106</td>\n",
       "      <td>12</td>\n",
       "      <td>20.0</td>\n",
       "      <td>2254091</td>\n",
       "      <td>138</td>\n",
       "      <td>10</td>\n",
       "      <td>5</td>\n",
       "      <td>14</td>\n",
       "      <td>...</td>\n",
       "      <td>Minnesota</td>\n",
       "      <td>81</td>\n",
       "      <td>2019-08-01</td>\n",
       "      <td>1</td>\n",
       "      <td>married</td>\n",
       "      <td>49620</td>\n",
       "      <td>both</td>\n",
       "      <td>Midwest</td>\n",
       "      <td>Normal activity</td>\n",
       "      <td>meat seafood</td>\n",
       "    </tr>\n",
       "    <tr>\n",
       "      <th>4</th>\n",
       "      <td>1000</td>\n",
       "      <td>Apricots</td>\n",
       "      <td>18</td>\n",
       "      <td>10</td>\n",
       "      <td>12.9</td>\n",
       "      <td>505689</td>\n",
       "      <td>138</td>\n",
       "      <td>9</td>\n",
       "      <td>6</td>\n",
       "      <td>12</td>\n",
       "      <td>...</td>\n",
       "      <td>Minnesota</td>\n",
       "      <td>81</td>\n",
       "      <td>2019-08-01</td>\n",
       "      <td>1</td>\n",
       "      <td>married</td>\n",
       "      <td>49620</td>\n",
       "      <td>both</td>\n",
       "      <td>Midwest</td>\n",
       "      <td>Normal activity</td>\n",
       "      <td>bulk</td>\n",
       "    </tr>\n",
       "  </tbody>\n",
       "</table>\n",
       "<p>5 rows × 35 columns</p>\n",
       "</div>"
      ],
      "text/plain": [
       "   product_id                product_name  aisle_id  department_id  prices  \\\n",
       "0           1  Chocolate Sandwich Cookies        61             19     5.8   \n",
       "1           1  Chocolate Sandwich Cookies        61             19     5.8   \n",
       "2         907        Premium Sliced Bacon       106             12    20.0   \n",
       "3         907        Premium Sliced Bacon       106             12    20.0   \n",
       "4        1000                    Apricots        18             10    12.9   \n",
       "\n",
       "   order_id user_id  order_number  orders_day_of_week  order_hour_of_day  ...  \\\n",
       "0   3139998     138            28                   6                 11  ...   \n",
       "1   1977647     138            30                   6                 17  ...   \n",
       "2   3160996     138             1                   5                 13  ...   \n",
       "3   2254091     138            10                   5                 14  ...   \n",
       "4    505689     138             9                   6                 12  ...   \n",
       "\n",
       "       state  age  date_joined  n_dependants   status income _merge   region  \\\n",
       "0  Minnesota   81   2019-08-01             1  married  49620   both  Midwest   \n",
       "1  Minnesota   81   2019-08-01             1  married  49620   both  Midwest   \n",
       "2  Minnesota   81   2019-08-01             1  married  49620   both  Midwest   \n",
       "3  Minnesota   81   2019-08-01             1  married  49620   both  Midwest   \n",
       "4  Minnesota   81   2019-08-01             1  married  49620   both  Midwest   \n",
       "\n",
       "     activity_flag    department  \n",
       "0  Normal activity        snacks  \n",
       "1  Normal activity        snacks  \n",
       "2  Normal activity  meat seafood  \n",
       "3  Normal activity  meat seafood  \n",
       "4  Normal activity          bulk  \n",
       "\n",
       "[5 rows x 35 columns]"
      ]
     },
     "execution_count": 25,
     "metadata": {},
     "output_type": "execute_result"
    }
   ],
   "source": [
    "df_active.head(5)"
   ]
  },
  {
   "cell_type": "code",
   "execution_count": 26,
   "id": "89886aa1",
   "metadata": {},
   "outputs": [
    {
     "data": {
      "text/plain": [
       "department\n",
       "produce            9113684\n",
       "dairy eggs         5177182\n",
       "snacks             2766406\n",
       "beverages          2571901\n",
       "frozen             2121731\n",
       "pantry             1782705\n",
       "bakery             1120828\n",
       "canned goods       1012074\n",
       "deli               1003834\n",
       "dry goods pasta     822136\n",
       "household           699857\n",
       "meat seafood        674781\n",
       "breakfast           670850\n",
       "personal care       424306\n",
       "babies              410392\n",
       "international       255991\n",
       "alcohol             144627\n",
       "pets                 93060\n",
       "missing              64768\n",
       "bulk                 33451\n",
       "Name: count, dtype: int64"
      ]
     },
     "execution_count": 26,
     "metadata": {},
     "output_type": "execute_result"
    }
   ],
   "source": [
    "df_active['department'].value_counts(dropna=False)"
   ]
  },
  {
   "cell_type": "markdown",
   "id": "a4f43130",
   "metadata": {},
   "source": [
    "## Customer Profiling"
   ]
  },
  {
   "cell_type": "markdown",
   "id": "5ff187fd",
   "metadata": {},
   "source": [
    "### Age profile"
   ]
  },
  {
   "cell_type": "code",
   "execution_count": 27,
   "id": "50a5d966",
   "metadata": {
    "scrolled": true
   },
   "outputs": [
    {
     "data": {
      "text/plain": [
       "age\n",
       "79    508337\n",
       "49    507879\n",
       "48    506730\n",
       "31    506218\n",
       "64    504832\n",
       "       ...  \n",
       "60    461897\n",
       "36    460649\n",
       "66    454604\n",
       "41    451269\n",
       "25    449324\n",
       "Name: count, Length: 64, dtype: int64"
      ]
     },
     "execution_count": 27,
     "metadata": {},
     "output_type": "execute_result"
    }
   ],
   "source": [
    "df_active['age'].value_counts(dropna=False)"
   ]
  },
  {
   "cell_type": "code",
   "execution_count": 28,
   "id": "ab9b9086",
   "metadata": {},
   "outputs": [
    {
     "data": {
      "text/plain": [
       "count    3.096456e+07\n",
       "mean     4.946803e+01\n",
       "std      1.848528e+01\n",
       "min      1.800000e+01\n",
       "25%      3.300000e+01\n",
       "50%      4.900000e+01\n",
       "75%      6.500000e+01\n",
       "max      8.100000e+01\n",
       "Name: age, dtype: float64"
      ]
     },
     "execution_count": 28,
     "metadata": {},
     "output_type": "execute_result"
    }
   ],
   "source": [
    "df_active['age'].describe()"
   ]
  },
  {
   "cell_type": "markdown",
   "id": "2afbd540",
   "metadata": {},
   "source": [
    "##### groups 18-44, 45-64, 65+ (https://en.wikipedia.org/wiki/Demographics_of_the_United_States)"
   ]
  },
  {
   "cell_type": "code",
   "execution_count": 29,
   "id": "c031bfc4",
   "metadata": {},
   "outputs": [
    {
     "name": "stderr",
     "output_type": "stream",
     "text": [
      "C:\\Users\\darii\\AppData\\Local\\Temp\\ipykernel_36728\\1206124459.py:3: SettingWithCopyWarning: \n",
      "A value is trying to be set on a copy of a slice from a DataFrame.\n",
      "Try using .loc[row_indexer,col_indexer] = value instead\n",
      "\n",
      "See the caveats in the documentation: https://pandas.pydata.org/pandas-docs/stable/user_guide/indexing.html#returning-a-view-versus-a-copy\n",
      "  df_active.loc[(df_active['age'] >=18) & (df_active['age'] <45), 'age_group'] = '18-44'\n",
      "C:\\Users\\darii\\AppData\\Local\\Temp\\ipykernel_36728\\1206124459.py:3: FutureWarning: Setting an item of incompatible dtype is deprecated and will raise in a future error of pandas. Value '18-44' has dtype incompatible with float64, please explicitly cast to a compatible dtype first.\n",
      "  df_active.loc[(df_active['age'] >=18) & (df_active['age'] <45), 'age_group'] = '18-44'\n"
     ]
    }
   ],
   "source": [
    "# create age group column\n",
    "# 18-44\n",
    "df_active.loc[(df_active['age'] >=18) & (df_active['age'] <45), 'age_group'] = '18-44'"
   ]
  },
  {
   "cell_type": "code",
   "execution_count": 30,
   "id": "15312c25",
   "metadata": {},
   "outputs": [],
   "source": [
    "# 45-64\n",
    "df_active.loc[(df_active['age'] >=45) & (df_active['age'] <65), 'age_group'] = '45-64'"
   ]
  },
  {
   "cell_type": "code",
   "execution_count": 31,
   "id": "dff0796e",
   "metadata": {},
   "outputs": [],
   "source": [
    "# 65+\n",
    "df_active.loc[(df_active['age'] >=65), 'age_group'] = '65+'"
   ]
  },
  {
   "cell_type": "code",
   "execution_count": 32,
   "id": "e9a27525",
   "metadata": {},
   "outputs": [
    {
     "data": {
      "text/plain": [
       "age_group\n",
       "18-44    13078969\n",
       "45-64     9690051\n",
       "65+       8195544\n",
       "Name: count, dtype: int64"
      ]
     },
     "execution_count": 32,
     "metadata": {},
     "output_type": "execute_result"
    }
   ],
   "source": [
    "df_active['age_group'].value_counts(dropna=False)"
   ]
  },
  {
   "cell_type": "markdown",
   "id": "17527822",
   "metadata": {},
   "source": [
    "### Income Profile"
   ]
  },
  {
   "cell_type": "code",
   "execution_count": 33,
   "id": "cea4689c",
   "metadata": {},
   "outputs": [
    {
     "data": {
      "text/plain": [
       "count    3.096456e+07\n",
       "mean     9.967587e+04\n",
       "std      4.314187e+04\n",
       "min      2.590300e+04\n",
       "25%      6.729200e+04\n",
       "50%      9.676500e+04\n",
       "75%      1.281020e+05\n",
       "max      5.939010e+05\n",
       "Name: income, dtype: float64"
      ]
     },
     "execution_count": 33,
     "metadata": {},
     "output_type": "execute_result"
    }
   ],
   "source": [
    "df_active['income'].describe()"
   ]
  },
  {
   "cell_type": "markdown",
   "id": "bd8f4fad",
   "metadata": {},
   "source": [
    "##### 25%, 50% and 75% for group creation (but rounded to \"nice numbers\")"
   ]
  },
  {
   "cell_type": "code",
   "execution_count": 34,
   "id": "0599f8bc",
   "metadata": {},
   "outputs": [
    {
     "name": "stderr",
     "output_type": "stream",
     "text": [
      "C:\\Users\\darii\\AppData\\Local\\Temp\\ipykernel_36728\\2762165788.py:2: SettingWithCopyWarning: \n",
      "A value is trying to be set on a copy of a slice from a DataFrame.\n",
      "Try using .loc[row_indexer,col_indexer] = value instead\n",
      "\n",
      "See the caveats in the documentation: https://pandas.pydata.org/pandas-docs/stable/user_guide/indexing.html#returning-a-view-versus-a-copy\n",
      "  df_active.loc[(df_active['income'] < 67000), 'income_group'] = '<67T'\n",
      "C:\\Users\\darii\\AppData\\Local\\Temp\\ipykernel_36728\\2762165788.py:2: FutureWarning: Setting an item of incompatible dtype is deprecated and will raise in a future error of pandas. Value '<67T' has dtype incompatible with float64, please explicitly cast to a compatible dtype first.\n",
      "  df_active.loc[(df_active['income'] < 67000), 'income_group'] = '<67T'\n"
     ]
    }
   ],
   "source": [
    "# <67T\n",
    "df_active.loc[(df_active['income'] < 67000), 'income_group'] = '<67T'"
   ]
  },
  {
   "cell_type": "code",
   "execution_count": 35,
   "id": "9cd5933b",
   "metadata": {},
   "outputs": [],
   "source": [
    "# 67-97T\n",
    "df_active.loc[(df_active['income'] >=67000) & (df_active['income'] <97000), 'income_group'] = '67-97T'"
   ]
  },
  {
   "cell_type": "code",
   "execution_count": 36,
   "id": "ae0e0221",
   "metadata": {},
   "outputs": [],
   "source": [
    "# 97-127T\n",
    "df_active.loc[(df_active['income'] >=97000) & (df_active['income'] <127000), 'income_group'] = '97-127T'"
   ]
  },
  {
   "cell_type": "code",
   "execution_count": 37,
   "id": "35e46f52",
   "metadata": {},
   "outputs": [],
   "source": [
    "# >127T\n",
    "df_active.loc[(df_active['income'] >= 127000), 'income_group'] = '>127T'"
   ]
  },
  {
   "cell_type": "code",
   "execution_count": 38,
   "id": "ee6a9359",
   "metadata": {},
   "outputs": [
    {
     "data": {
      "text/plain": [
       "income_group\n",
       ">127T      7932603\n",
       "67-97T     7914066\n",
       "<67T       7661478\n",
       "97-127T    7456417\n",
       "Name: count, dtype: int64"
      ]
     },
     "execution_count": 38,
     "metadata": {},
     "output_type": "execute_result"
    }
   ],
   "source": [
    "df_active['income_group'].value_counts(dropna=False)"
   ]
  },
  {
   "cell_type": "markdown",
   "id": "90137164",
   "metadata": {},
   "source": [
    "### Goods profile"
   ]
  },
  {
   "cell_type": "code",
   "execution_count": 39,
   "id": "51d01903",
   "metadata": {},
   "outputs": [
    {
     "data": {
      "text/plain": [
       "department\n",
       "produce            9113684\n",
       "dairy eggs         5177182\n",
       "snacks             2766406\n",
       "beverages          2571901\n",
       "frozen             2121731\n",
       "pantry             1782705\n",
       "bakery             1120828\n",
       "canned goods       1012074\n",
       "deli               1003834\n",
       "dry goods pasta     822136\n",
       "household           699857\n",
       "meat seafood        674781\n",
       "breakfast           670850\n",
       "personal care       424306\n",
       "babies              410392\n",
       "international       255991\n",
       "alcohol             144627\n",
       "pets                 93060\n",
       "missing              64768\n",
       "bulk                 33451\n",
       "Name: count, dtype: int64"
      ]
     },
     "execution_count": 39,
     "metadata": {},
     "output_type": "execute_result"
    }
   ],
   "source": [
    "df_active['department'].value_counts(dropna=False)"
   ]
  },
  {
   "cell_type": "markdown",
   "id": "be13754f",
   "metadata": {},
   "source": [
    "#### will be combined with others later"
   ]
  },
  {
   "cell_type": "markdown",
   "id": "6c4fe635",
   "metadata": {},
   "source": [
    "### Number of dependants profile"
   ]
  },
  {
   "cell_type": "code",
   "execution_count": 40,
   "id": "0d232150",
   "metadata": {},
   "outputs": [
    {
     "data": {
      "text/plain": [
       "n_dependants\n",
       "3    7772516\n",
       "0    7739681\n",
       "2    7733261\n",
       "1    7719106\n",
       "Name: count, dtype: int64"
      ]
     },
     "execution_count": 40,
     "metadata": {},
     "output_type": "execute_result"
    }
   ],
   "source": [
    "df_active['n_dependants'].value_counts(dropna=False)"
   ]
  },
  {
   "cell_type": "markdown",
   "id": "08137e41",
   "metadata": {},
   "source": [
    "### Combined profile - Family status + Number of dependants"
   ]
  },
  {
   "cell_type": "code",
   "execution_count": 41,
   "id": "f72120cf",
   "metadata": {},
   "outputs": [
    {
     "data": {
      "text/plain": [
       "status\n",
       "married                             21743711\n",
       "single                               5094410\n",
       "divorced/widowed                     2645271\n",
       "living with parents and siblings     1481172\n",
       "Name: count, dtype: int64"
      ]
     },
     "execution_count": 41,
     "metadata": {},
     "output_type": "execute_result"
    }
   ],
   "source": [
    "# family status\n",
    "df_active['status'].value_counts(dropna=False)"
   ]
  },
  {
   "cell_type": "code",
   "execution_count": 45,
   "id": "622ec8d7",
   "metadata": {},
   "outputs": [],
   "source": [
    "# crosstab\n",
    "cross_status_dependants = pd.crosstab(df_active['status'], df_active['n_dependants'], dropna = False)"
   ]
  },
  {
   "cell_type": "code",
   "execution_count": 43,
   "id": "a6346517",
   "metadata": {},
   "outputs": [
    {
     "data": {
      "text/html": [
       "<div>\n",
       "<style scoped>\n",
       "    .dataframe tbody tr th:only-of-type {\n",
       "        vertical-align: middle;\n",
       "    }\n",
       "\n",
       "    .dataframe tbody tr th {\n",
       "        vertical-align: top;\n",
       "    }\n",
       "\n",
       "    .dataframe thead th {\n",
       "        text-align: right;\n",
       "    }\n",
       "</style>\n",
       "<table border=\"1\" class=\"dataframe\">\n",
       "  <thead>\n",
       "    <tr style=\"text-align: right;\">\n",
       "      <th>n_dependants</th>\n",
       "      <th>0</th>\n",
       "      <th>1</th>\n",
       "      <th>2</th>\n",
       "      <th>3</th>\n",
       "    </tr>\n",
       "    <tr>\n",
       "      <th>status</th>\n",
       "      <th></th>\n",
       "      <th></th>\n",
       "      <th></th>\n",
       "      <th></th>\n",
       "    </tr>\n",
       "  </thead>\n",
       "  <tbody>\n",
       "    <tr>\n",
       "      <th>divorced/widowed</th>\n",
       "      <td>2645271</td>\n",
       "      <td>0</td>\n",
       "      <td>0</td>\n",
       "      <td>0</td>\n",
       "    </tr>\n",
       "    <tr>\n",
       "      <th>living with parents and siblings</th>\n",
       "      <td>0</td>\n",
       "      <td>508045</td>\n",
       "      <td>484658</td>\n",
       "      <td>488469</td>\n",
       "    </tr>\n",
       "    <tr>\n",
       "      <th>married</th>\n",
       "      <td>0</td>\n",
       "      <td>7211061</td>\n",
       "      <td>7248603</td>\n",
       "      <td>7284047</td>\n",
       "    </tr>\n",
       "    <tr>\n",
       "      <th>single</th>\n",
       "      <td>5094410</td>\n",
       "      <td>0</td>\n",
       "      <td>0</td>\n",
       "      <td>0</td>\n",
       "    </tr>\n",
       "  </tbody>\n",
       "</table>\n",
       "</div>"
      ],
      "text/plain": [
       "n_dependants                            0        1        2        3\n",
       "status                                                              \n",
       "divorced/widowed                  2645271        0        0        0\n",
       "living with parents and siblings        0   508045   484658   488469\n",
       "married                                 0  7211061  7248603  7284047\n",
       "single                            5094410        0        0        0"
      ]
     },
     "execution_count": 43,
     "metadata": {},
     "output_type": "execute_result"
    }
   ],
   "source": [
    "# output\n",
    "cross_status_dependants"
   ]
  },
  {
   "cell_type": "markdown",
   "id": "ecaae27b",
   "metadata": {},
   "source": [
    "##### profiles: Living alone, shared living is the best grouping for online shopping case, which is the same as number of dependants grouping"
   ]
  },
  {
   "cell_type": "code",
   "execution_count": 51,
   "id": "2009f462",
   "metadata": {},
   "outputs": [
    {
     "name": "stderr",
     "output_type": "stream",
     "text": [
      "C:\\Users\\darii\\AppData\\Local\\Temp\\ipykernel_36728\\2460954995.py:2: SettingWithCopyWarning: \n",
      "A value is trying to be set on a copy of a slice from a DataFrame.\n",
      "Try using .loc[row_indexer,col_indexer] = value instead\n",
      "\n",
      "See the caveats in the documentation: https://pandas.pydata.org/pandas-docs/stable/user_guide/indexing.html#returning-a-view-versus-a-copy\n",
      "  df_active.loc[df_active['status'].isin(['divorced/widowed','single']), 'living'] = 'living alone'\n",
      "C:\\Users\\darii\\AppData\\Local\\Temp\\ipykernel_36728\\2460954995.py:2: FutureWarning: Setting an item of incompatible dtype is deprecated and will raise in a future error of pandas. Value 'living alone' has dtype incompatible with float64, please explicitly cast to a compatible dtype first.\n",
      "  df_active.loc[df_active['status'].isin(['divorced/widowed','single']), 'living'] = 'living alone'\n"
     ]
    }
   ],
   "source": [
    "# create living column\n",
    "df_active.loc[df_active['status'].isin(['divorced/widowed','single']), 'living'] = 'living alone'"
   ]
  },
  {
   "cell_type": "code",
   "execution_count": 52,
   "id": "9b1509a2",
   "metadata": {},
   "outputs": [],
   "source": [
    "df_active.loc[df_active['status'].isin(['married','living with parents and siblings']), 'living'] = 'shared living'"
   ]
  },
  {
   "cell_type": "code",
   "execution_count": 53,
   "id": "052764fc",
   "metadata": {},
   "outputs": [
    {
     "data": {
      "text/plain": [
       "living\n",
       "shared living    23224883\n",
       "living alone      7739681\n",
       "Name: count, dtype: int64"
      ]
     },
     "execution_count": 53,
     "metadata": {},
     "output_type": "execute_result"
    }
   ],
   "source": [
    "# check\n",
    "df_active['living'].value_counts(dropna=False)"
   ]
  },
  {
   "cell_type": "markdown",
   "id": "e99329a2",
   "metadata": {},
   "source": [
    "### Combined profile - Status + Age group"
   ]
  },
  {
   "cell_type": "code",
   "execution_count": 46,
   "id": "0c4da748",
   "metadata": {},
   "outputs": [],
   "source": [
    "# crosstab\n",
    "cross_status_age = pd.crosstab(df_active['status'], df_active['age_group'], dropna = False)"
   ]
  },
  {
   "cell_type": "code",
   "execution_count": 47,
   "id": "72b457bd",
   "metadata": {},
   "outputs": [
    {
     "data": {
      "text/html": [
       "<div>\n",
       "<style scoped>\n",
       "    .dataframe tbody tr th:only-of-type {\n",
       "        vertical-align: middle;\n",
       "    }\n",
       "\n",
       "    .dataframe tbody tr th {\n",
       "        vertical-align: top;\n",
       "    }\n",
       "\n",
       "    .dataframe thead th {\n",
       "        text-align: right;\n",
       "    }\n",
       "</style>\n",
       "<table border=\"1\" class=\"dataframe\">\n",
       "  <thead>\n",
       "    <tr style=\"text-align: right;\">\n",
       "      <th>age_group</th>\n",
       "      <th>18-44</th>\n",
       "      <th>45-64</th>\n",
       "      <th>65+</th>\n",
       "    </tr>\n",
       "    <tr>\n",
       "      <th>status</th>\n",
       "      <th></th>\n",
       "      <th></th>\n",
       "      <th></th>\n",
       "    </tr>\n",
       "  </thead>\n",
       "  <tbody>\n",
       "    <tr>\n",
       "      <th>divorced/widowed</th>\n",
       "      <td>0</td>\n",
       "      <td>623313</td>\n",
       "      <td>2021958</td>\n",
       "    </tr>\n",
       "    <tr>\n",
       "      <th>living with parents and siblings</th>\n",
       "      <td>1481172</td>\n",
       "      <td>0</td>\n",
       "      <td>0</td>\n",
       "    </tr>\n",
       "    <tr>\n",
       "      <th>married</th>\n",
       "      <td>8331385</td>\n",
       "      <td>7238740</td>\n",
       "      <td>6173586</td>\n",
       "    </tr>\n",
       "    <tr>\n",
       "      <th>single</th>\n",
       "      <td>3266412</td>\n",
       "      <td>1827998</td>\n",
       "      <td>0</td>\n",
       "    </tr>\n",
       "  </tbody>\n",
       "</table>\n",
       "</div>"
      ],
      "text/plain": [
       "age_group                           18-44    45-64      65+\n",
       "status                                                     \n",
       "divorced/widowed                        0   623313  2021958\n",
       "living with parents and siblings  1481172        0        0\n",
       "married                           8331385  7238740  6173586\n",
       "single                            3266412  1827998        0"
      ]
     },
     "execution_count": 47,
     "metadata": {},
     "output_type": "execute_result"
    }
   ],
   "source": [
    "# output\n",
    "cross_status_age"
   ]
  },
  {
   "cell_type": "markdown",
   "id": "5b11a32c",
   "metadata": {},
   "source": [
    "##### for now no need to group"
   ]
  },
  {
   "cell_type": "markdown",
   "id": "f2586ed7",
   "metadata": {},
   "source": [
    "### Combined profile - Number of dependants + Age group"
   ]
  },
  {
   "cell_type": "code",
   "execution_count": 48,
   "id": "aae29272",
   "metadata": {},
   "outputs": [],
   "source": [
    "# crosstab\n",
    "cross_dependants_age = pd.crosstab(df_active['n_dependants'], df_active['age_group'], dropna = False)"
   ]
  },
  {
   "cell_type": "code",
   "execution_count": 49,
   "id": "a620d368",
   "metadata": {},
   "outputs": [
    {
     "data": {
      "text/html": [
       "<div>\n",
       "<style scoped>\n",
       "    .dataframe tbody tr th:only-of-type {\n",
       "        vertical-align: middle;\n",
       "    }\n",
       "\n",
       "    .dataframe tbody tr th {\n",
       "        vertical-align: top;\n",
       "    }\n",
       "\n",
       "    .dataframe thead th {\n",
       "        text-align: right;\n",
       "    }\n",
       "</style>\n",
       "<table border=\"1\" class=\"dataframe\">\n",
       "  <thead>\n",
       "    <tr style=\"text-align: right;\">\n",
       "      <th>age_group</th>\n",
       "      <th>18-44</th>\n",
       "      <th>45-64</th>\n",
       "      <th>65+</th>\n",
       "    </tr>\n",
       "    <tr>\n",
       "      <th>n_dependants</th>\n",
       "      <th></th>\n",
       "      <th></th>\n",
       "      <th></th>\n",
       "    </tr>\n",
       "  </thead>\n",
       "  <tbody>\n",
       "    <tr>\n",
       "      <th>0</th>\n",
       "      <td>3266412</td>\n",
       "      <td>2451311</td>\n",
       "      <td>2021958</td>\n",
       "    </tr>\n",
       "    <tr>\n",
       "      <th>1</th>\n",
       "      <td>3281294</td>\n",
       "      <td>2408823</td>\n",
       "      <td>2028989</td>\n",
       "    </tr>\n",
       "    <tr>\n",
       "      <th>2</th>\n",
       "      <td>3264228</td>\n",
       "      <td>2375186</td>\n",
       "      <td>2093847</td>\n",
       "    </tr>\n",
       "    <tr>\n",
       "      <th>3</th>\n",
       "      <td>3267035</td>\n",
       "      <td>2454731</td>\n",
       "      <td>2050750</td>\n",
       "    </tr>\n",
       "  </tbody>\n",
       "</table>\n",
       "</div>"
      ],
      "text/plain": [
       "age_group       18-44    45-64      65+\n",
       "n_dependants                           \n",
       "0             3266412  2451311  2021958\n",
       "1             3281294  2408823  2028989\n",
       "2             3264228  2375186  2093847\n",
       "3             3267035  2454731  2050750"
      ]
     },
     "execution_count": 49,
     "metadata": {},
     "output_type": "execute_result"
    }
   ],
   "source": [
    "cross_dependants_age"
   ]
  },
  {
   "cell_type": "markdown",
   "id": "a1f2e1d8",
   "metadata": {},
   "source": [
    "##### for now no need to group"
   ]
  },
  {
   "cell_type": "markdown",
   "id": "5d705dc4",
   "metadata": {},
   "source": [
    "## 4.10.6 Customer Profiles Visualizations"
   ]
  },
  {
   "cell_type": "markdown",
   "id": "1a5aa809",
   "metadata": {},
   "source": [
    "### Age group"
   ]
  },
  {
   "cell_type": "code",
   "execution_count": 57,
   "id": "5309b677",
   "metadata": {},
   "outputs": [
    {
     "data": {
      "image/png": "[encoded data removed]",
      "text/plain": [
       "<Figure size 640x480 with 1 Axes>"
      ]
     },
     "metadata": {},
     "output_type": "display_data"
    }
   ],
   "source": [
    "bar_age_group = df_active['age_group'].value_counts().sort_index().plot.bar()"
   ]
  },
  {
   "cell_type": "code",
   "execution_count": 59,
   "id": "249bf4e0",
   "metadata": {},
   "outputs": [],
   "source": [
    "# export\n",
    "bar_age_group.figure.savefig(os.path.join(path, '04 Analysis', 'Visualizations', 'bar_age_group.png'))"
   ]
  },
  {
   "cell_type": "markdown",
   "id": "c631d0ed",
   "metadata": {},
   "source": [
    "### Income group"
   ]
  },
  {
   "cell_type": "code",
   "execution_count": 60,
   "id": "6926ac1d",
   "metadata": {},
   "outputs": [
    {
     "data": {
      "image/png": "[encoded data removed]",
      "text/plain": [
       "<Figure size 640x480 with 1 Axes>"
      ]
     },
     "metadata": {},
     "output_type": "display_data"
    }
   ],
   "source": [
    "bar_income_group = df_active['income_group'].value_counts().sort_index().plot.bar()"
   ]
  },
  {
   "cell_type": "code",
   "execution_count": 61,
   "id": "5e683707",
   "metadata": {},
   "outputs": [],
   "source": [
    "# export\n",
    "bar_income_group.figure.savefig(os.path.join(path, '04 Analysis', 'Visualizations', 'bar_income_group.png'))"
   ]
  },
  {
   "cell_type": "markdown",
   "id": "4403f196",
   "metadata": {},
   "source": [
    "### Goods"
   ]
  },
  {
   "cell_type": "code",
   "execution_count": 63,
   "id": "c9bf0e3d",
   "metadata": {},
   "outputs": [
    {
     "data": {
      "image/png": "[encoded data removed]",
      "text/plain": [
       "<Figure size 640x480 with 1 Axes>"
      ]
     },
     "metadata": {},
     "output_type": "display_data"
    }
   ],
   "source": [
    "bar_goods = df_active['department'].value_counts().plot.bar()"
   ]
  },
  {
   "cell_type": "code",
   "execution_count": 64,
   "id": "26a44ff2",
   "metadata": {},
   "outputs": [],
   "source": [
    "# export\n",
    "bar_goods.figure.savefig(os.path.join(path, '04 Analysis', 'Visualizations', 'bar_goods.png'))"
   ]
  },
  {
   "cell_type": "markdown",
   "id": "089c0e05",
   "metadata": {},
   "source": [
    "### Living situation group"
   ]
  },
  {
   "cell_type": "code",
   "execution_count": 65,
   "id": "724beea5",
   "metadata": {},
   "outputs": [
    {
     "data": {
      "image/png": "[encoded data removed]",
      "text/plain": [
       "<Figure size 640x480 with 1 Axes>"
      ]
     },
     "metadata": {},
     "output_type": "display_data"
    }
   ],
   "source": [
    "bar_living = df_active['living'].value_counts().plot.bar()"
   ]
  },
  {
   "cell_type": "code",
   "execution_count": 66,
   "id": "a0578ef0",
   "metadata": {},
   "outputs": [],
   "source": [
    "# export\n",
    "bar_living.figure.savefig(os.path.join(path, '04 Analysis', 'Visualizations', 'bar_living.png'))"
   ]
  },
  {
   "cell_type": "markdown",
   "id": "06f7ba39",
   "metadata": {},
   "source": [
    "## 4.10.7 Aggregated values for profiles (usage and expenditure)"
   ]
  },
  {
   "cell_type": "markdown",
   "id": "d901b4f9",
   "metadata": {},
   "source": [
    "### Age group"
   ]
  },
  {
   "cell_type": "code",
   "execution_count": 68,
   "id": "e121145d",
   "metadata": {},
   "outputs": [
    {
     "data": {
      "text/html": [
       "<div>\n",
       "<style scoped>\n",
       "    .dataframe tbody tr th:only-of-type {\n",
       "        vertical-align: middle;\n",
       "    }\n",
       "\n",
       "    .dataframe tbody tr th {\n",
       "        vertical-align: top;\n",
       "    }\n",
       "\n",
       "    .dataframe thead tr th {\n",
       "        text-align: left;\n",
       "    }\n",
       "\n",
       "    .dataframe thead tr:last-of-type th {\n",
       "        text-align: right;\n",
       "    }\n",
       "</style>\n",
       "<table border=\"1\" class=\"dataframe\">\n",
       "  <thead>\n",
       "    <tr>\n",
       "      <th></th>\n",
       "      <th colspan=\"3\" halign=\"left\">order_number</th>\n",
       "      <th colspan=\"3\" halign=\"left\">mean_spend</th>\n",
       "    </tr>\n",
       "    <tr>\n",
       "      <th></th>\n",
       "      <th>mean</th>\n",
       "      <th>max</th>\n",
       "      <th>min</th>\n",
       "      <th>mean</th>\n",
       "      <th>max</th>\n",
       "      <th>min</th>\n",
       "    </tr>\n",
       "    <tr>\n",
       "      <th>age_group</th>\n",
       "      <th></th>\n",
       "      <th></th>\n",
       "      <th></th>\n",
       "      <th></th>\n",
       "      <th></th>\n",
       "      <th></th>\n",
       "    </tr>\n",
       "  </thead>\n",
       "  <tbody>\n",
       "    <tr>\n",
       "      <th>18-44</th>\n",
       "      <td>17.843695</td>\n",
       "      <td>99</td>\n",
       "      <td>1</td>\n",
       "      <td>11.911397</td>\n",
       "      <td>10209.987755</td>\n",
       "      <td>1.0000</td>\n",
       "    </tr>\n",
       "    <tr>\n",
       "      <th>45-64</th>\n",
       "      <td>17.862849</td>\n",
       "      <td>99</td>\n",
       "      <td>1</td>\n",
       "      <td>12.112030</td>\n",
       "      <td>15006.940000</td>\n",
       "      <td>1.0000</td>\n",
       "    </tr>\n",
       "    <tr>\n",
       "      <th>65+</th>\n",
       "      <td>17.784952</td>\n",
       "      <td>99</td>\n",
       "      <td>1</td>\n",
       "      <td>11.757768</td>\n",
       "      <td>14042.512281</td>\n",
       "      <td>1.2625</td>\n",
       "    </tr>\n",
       "  </tbody>\n",
       "</table>\n",
       "</div>"
      ],
      "text/plain": [
       "          order_number         mean_spend                      \n",
       "                  mean max min       mean           max     min\n",
       "age_group                                                      \n",
       "18-44        17.843695  99   1  11.911397  10209.987755  1.0000\n",
       "45-64        17.862849  99   1  12.112030  15006.940000  1.0000\n",
       "65+          17.784952  99   1  11.757768  14042.512281  1.2625"
      ]
     },
     "execution_count": 68,
     "metadata": {},
     "output_type": "execute_result"
    }
   ],
   "source": [
    "df_active.groupby('age_group').agg({'order_number': ['mean','max','min'], 'mean_spend': ['mean','max','min']})"
   ]
  },
  {
   "cell_type": "markdown",
   "id": "6f621746",
   "metadata": {},
   "source": [
    "##### Along age groups no difference in numbers of order, but visible trend of the middle age group to spend more money, followed by the 65+ customers"
   ]
  },
  {
   "cell_type": "markdown",
   "id": "e0d19a9a",
   "metadata": {},
   "source": [
    "### Income group"
   ]
  },
  {
   "cell_type": "code",
   "execution_count": 72,
   "id": "bd747a7b",
   "metadata": {},
   "outputs": [
    {
     "data": {
      "text/html": [
       "<div>\n",
       "<style scoped>\n",
       "    .dataframe tbody tr th:only-of-type {\n",
       "        vertical-align: middle;\n",
       "    }\n",
       "\n",
       "    .dataframe tbody tr th {\n",
       "        vertical-align: top;\n",
       "    }\n",
       "\n",
       "    .dataframe thead tr th {\n",
       "        text-align: left;\n",
       "    }\n",
       "\n",
       "    .dataframe thead tr:last-of-type th {\n",
       "        text-align: right;\n",
       "    }\n",
       "</style>\n",
       "<table border=\"1\" class=\"dataframe\">\n",
       "  <thead>\n",
       "    <tr>\n",
       "      <th></th>\n",
       "      <th colspan=\"3\" halign=\"left\">order_number</th>\n",
       "      <th colspan=\"3\" halign=\"left\">mean_spend</th>\n",
       "    </tr>\n",
       "    <tr>\n",
       "      <th></th>\n",
       "      <th>mean</th>\n",
       "      <th>max</th>\n",
       "      <th>min</th>\n",
       "      <th>mean</th>\n",
       "      <th>max</th>\n",
       "      <th>min</th>\n",
       "    </tr>\n",
       "    <tr>\n",
       "      <th>income_group</th>\n",
       "      <th></th>\n",
       "      <th></th>\n",
       "      <th></th>\n",
       "      <th></th>\n",
       "      <th></th>\n",
       "      <th></th>\n",
       "    </tr>\n",
       "  </thead>\n",
       "  <tbody>\n",
       "    <tr>\n",
       "      <th>67-97T</th>\n",
       "      <td>18.088586</td>\n",
       "      <td>99</td>\n",
       "      <td>1</td>\n",
       "      <td>8.713289</td>\n",
       "      <td>3453.431034</td>\n",
       "      <td>7.0</td>\n",
       "    </tr>\n",
       "    <tr>\n",
       "      <th>97-127T</th>\n",
       "      <td>17.826323</td>\n",
       "      <td>99</td>\n",
       "      <td>1</td>\n",
       "      <td>9.740686</td>\n",
       "      <td>5135.893590</td>\n",
       "      <td>7.0</td>\n",
       "    </tr>\n",
       "    <tr>\n",
       "      <th>&lt;67T</th>\n",
       "      <td>17.470500</td>\n",
       "      <td>99</td>\n",
       "      <td>1</td>\n",
       "      <td>7.301387</td>\n",
       "      <td>21.272202</td>\n",
       "      <td>1.0</td>\n",
       "    </tr>\n",
       "    <tr>\n",
       "      <th>&gt;127T</th>\n",
       "      <td>17.938853</td>\n",
       "      <td>99</td>\n",
       "      <td>1</td>\n",
       "      <td>21.681245</td>\n",
       "      <td>15006.940000</td>\n",
       "      <td>7.0</td>\n",
       "    </tr>\n",
       "  </tbody>\n",
       "</table>\n",
       "</div>"
      ],
      "text/plain": [
       "             order_number         mean_spend                   \n",
       "                     mean max min       mean           max  min\n",
       "income_group                                                   \n",
       "67-97T          18.088586  99   1   8.713289   3453.431034  7.0\n",
       "97-127T         17.826323  99   1   9.740686   5135.893590  7.0\n",
       "<67T            17.470500  99   1   7.301387     21.272202  1.0\n",
       ">127T           17.938853  99   1  21.681245  15006.940000  7.0"
      ]
     },
     "execution_count": 72,
     "metadata": {},
     "output_type": "execute_result"
    }
   ],
   "source": [
    "df_active.groupby('income_group').agg({'order_number': ['mean','max','min'], 'mean_spend': ['mean','max','min']})"
   ]
  },
  {
   "cell_type": "markdown",
   "id": "31930b39",
   "metadata": {},
   "source": [
    "##### Again no difference in number of orders. But there is a positive correlation between customers income and spends"
   ]
  },
  {
   "cell_type": "markdown",
   "id": "507931a3",
   "metadata": {},
   "source": [
    "### Goods"
   ]
  },
  {
   "cell_type": "code",
   "execution_count": 73,
   "id": "115469c6",
   "metadata": {},
   "outputs": [
    {
     "data": {
      "text/html": [
       "<div>\n",
       "<style scoped>\n",
       "    .dataframe tbody tr th:only-of-type {\n",
       "        vertical-align: middle;\n",
       "    }\n",
       "\n",
       "    .dataframe tbody tr th {\n",
       "        vertical-align: top;\n",
       "    }\n",
       "\n",
       "    .dataframe thead tr th {\n",
       "        text-align: left;\n",
       "    }\n",
       "\n",
       "    .dataframe thead tr:last-of-type th {\n",
       "        text-align: right;\n",
       "    }\n",
       "</style>\n",
       "<table border=\"1\" class=\"dataframe\">\n",
       "  <thead>\n",
       "    <tr>\n",
       "      <th></th>\n",
       "      <th colspan=\"3\" halign=\"left\">order_number</th>\n",
       "      <th colspan=\"3\" halign=\"left\">mean_spend</th>\n",
       "    </tr>\n",
       "    <tr>\n",
       "      <th></th>\n",
       "      <th>mean</th>\n",
       "      <th>max</th>\n",
       "      <th>min</th>\n",
       "      <th>mean</th>\n",
       "      <th>max</th>\n",
       "      <th>min</th>\n",
       "    </tr>\n",
       "    <tr>\n",
       "      <th>department</th>\n",
       "      <th></th>\n",
       "      <th></th>\n",
       "      <th></th>\n",
       "      <th></th>\n",
       "      <th></th>\n",
       "      <th></th>\n",
       "    </tr>\n",
       "  </thead>\n",
       "  <tbody>\n",
       "    <tr>\n",
       "      <th>alcohol</th>\n",
       "      <td>16.034226</td>\n",
       "      <td>99</td>\n",
       "      <td>1</td>\n",
       "      <td>27.728607</td>\n",
       "      <td>14042.512281</td>\n",
       "      <td>2.046154</td>\n",
       "    </tr>\n",
       "    <tr>\n",
       "      <th>babies</th>\n",
       "      <td>19.867090</td>\n",
       "      <td>99</td>\n",
       "      <td>1</td>\n",
       "      <td>10.195950</td>\n",
       "      <td>4357.073913</td>\n",
       "      <td>1.425000</td>\n",
       "    </tr>\n",
       "    <tr>\n",
       "      <th>bakery</th>\n",
       "      <td>17.856619</td>\n",
       "      <td>99</td>\n",
       "      <td>1</td>\n",
       "      <td>13.373834</td>\n",
       "      <td>15006.940000</td>\n",
       "      <td>1.900000</td>\n",
       "    </tr>\n",
       "    <tr>\n",
       "      <th>beverages</th>\n",
       "      <td>17.901479</td>\n",
       "      <td>99</td>\n",
       "      <td>1</td>\n",
       "      <td>12.683184</td>\n",
       "      <td>15006.940000</td>\n",
       "      <td>1.100000</td>\n",
       "    </tr>\n",
       "    <tr>\n",
       "      <th>breakfast</th>\n",
       "      <td>17.469987</td>\n",
       "      <td>99</td>\n",
       "      <td>1</td>\n",
       "      <td>14.683988</td>\n",
       "      <td>10209.987755</td>\n",
       "      <td>2.172727</td>\n",
       "    </tr>\n",
       "    <tr>\n",
       "      <th>bulk</th>\n",
       "      <td>20.797555</td>\n",
       "      <td>99</td>\n",
       "      <td>1</td>\n",
       "      <td>8.441167</td>\n",
       "      <td>2496.148259</td>\n",
       "      <td>3.112500</td>\n",
       "    </tr>\n",
       "    <tr>\n",
       "      <th>canned goods</th>\n",
       "      <td>16.933858</td>\n",
       "      <td>99</td>\n",
       "      <td>1</td>\n",
       "      <td>12.249512</td>\n",
       "      <td>15006.940000</td>\n",
       "      <td>1.800000</td>\n",
       "    </tr>\n",
       "    <tr>\n",
       "      <th>dairy eggs</th>\n",
       "      <td>18.324695</td>\n",
       "      <td>99</td>\n",
       "      <td>1</td>\n",
       "      <td>12.369873</td>\n",
       "      <td>15006.940000</td>\n",
       "      <td>1.568750</td>\n",
       "    </tr>\n",
       "    <tr>\n",
       "      <th>deli</th>\n",
       "      <td>17.144802</td>\n",
       "      <td>99</td>\n",
       "      <td>1</td>\n",
       "      <td>11.065003</td>\n",
       "      <td>6983.593023</td>\n",
       "      <td>1.773333</td>\n",
       "    </tr>\n",
       "    <tr>\n",
       "      <th>dry goods pasta</th>\n",
       "      <td>16.633019</td>\n",
       "      <td>99</td>\n",
       "      <td>1</td>\n",
       "      <td>12.591432</td>\n",
       "      <td>14042.512281</td>\n",
       "      <td>2.611111</td>\n",
       "    </tr>\n",
       "    <tr>\n",
       "      <th>frozen</th>\n",
       "      <td>16.160739</td>\n",
       "      <td>99</td>\n",
       "      <td>1</td>\n",
       "      <td>12.449657</td>\n",
       "      <td>15006.940000</td>\n",
       "      <td>1.845455</td>\n",
       "    </tr>\n",
       "    <tr>\n",
       "      <th>household</th>\n",
       "      <td>16.438914</td>\n",
       "      <td>99</td>\n",
       "      <td>1</td>\n",
       "      <td>15.031330</td>\n",
       "      <td>15006.940000</td>\n",
       "      <td>1.000000</td>\n",
       "    </tr>\n",
       "    <tr>\n",
       "      <th>international</th>\n",
       "      <td>17.174694</td>\n",
       "      <td>99</td>\n",
       "      <td>1</td>\n",
       "      <td>11.491133</td>\n",
       "      <td>5271.136842</td>\n",
       "      <td>2.400000</td>\n",
       "    </tr>\n",
       "    <tr>\n",
       "      <th>meat seafood</th>\n",
       "      <td>16.576910</td>\n",
       "      <td>99</td>\n",
       "      <td>1</td>\n",
       "      <td>13.057558</td>\n",
       "      <td>15006.940000</td>\n",
       "      <td>3.278571</td>\n",
       "    </tr>\n",
       "    <tr>\n",
       "      <th>missing</th>\n",
       "      <td>24.281327</td>\n",
       "      <td>99</td>\n",
       "      <td>1</td>\n",
       "      <td>11.812251</td>\n",
       "      <td>6390.138298</td>\n",
       "      <td>3.600000</td>\n",
       "    </tr>\n",
       "    <tr>\n",
       "      <th>pantry</th>\n",
       "      <td>17.328319</td>\n",
       "      <td>99</td>\n",
       "      <td>1</td>\n",
       "      <td>12.516061</td>\n",
       "      <td>15006.940000</td>\n",
       "      <td>1.360000</td>\n",
       "    </tr>\n",
       "    <tr>\n",
       "      <th>personal care</th>\n",
       "      <td>16.933392</td>\n",
       "      <td>99</td>\n",
       "      <td>1</td>\n",
       "      <td>13.484737</td>\n",
       "      <td>15006.940000</td>\n",
       "      <td>2.222222</td>\n",
       "    </tr>\n",
       "    <tr>\n",
       "      <th>pets</th>\n",
       "      <td>15.995927</td>\n",
       "      <td>99</td>\n",
       "      <td>1</td>\n",
       "      <td>15.266906</td>\n",
       "      <td>6390.138298</td>\n",
       "      <td>3.557143</td>\n",
       "    </tr>\n",
       "    <tr>\n",
       "      <th>produce</th>\n",
       "      <td>18.494222</td>\n",
       "      <td>99</td>\n",
       "      <td>1</td>\n",
       "      <td>10.368024</td>\n",
       "      <td>14042.512281</td>\n",
       "      <td>1.300000</td>\n",
       "    </tr>\n",
       "    <tr>\n",
       "      <th>snacks</th>\n",
       "      <td>17.830354</td>\n",
       "      <td>99</td>\n",
       "      <td>1</td>\n",
       "      <td>11.669675</td>\n",
       "      <td>15006.940000</td>\n",
       "      <td>1.262500</td>\n",
       "    </tr>\n",
       "  </tbody>\n",
       "</table>\n",
       "</div>"
      ],
      "text/plain": [
       "                order_number         mean_spend                        \n",
       "                        mean max min       mean           max       min\n",
       "department                                                             \n",
       "alcohol            16.034226  99   1  27.728607  14042.512281  2.046154\n",
       "babies             19.867090  99   1  10.195950   4357.073913  1.425000\n",
       "bakery             17.856619  99   1  13.373834  15006.940000  1.900000\n",
       "beverages          17.901479  99   1  12.683184  15006.940000  1.100000\n",
       "breakfast          17.469987  99   1  14.683988  10209.987755  2.172727\n",
       "bulk               20.797555  99   1   8.441167   2496.148259  3.112500\n",
       "canned goods       16.933858  99   1  12.249512  15006.940000  1.800000\n",
       "dairy eggs         18.324695  99   1  12.369873  15006.940000  1.568750\n",
       "deli               17.144802  99   1  11.065003   6983.593023  1.773333\n",
       "dry goods pasta    16.633019  99   1  12.591432  14042.512281  2.611111\n",
       "frozen             16.160739  99   1  12.449657  15006.940000  1.845455\n",
       "household          16.438914  99   1  15.031330  15006.940000  1.000000\n",
       "international      17.174694  99   1  11.491133   5271.136842  2.400000\n",
       "meat seafood       16.576910  99   1  13.057558  15006.940000  3.278571\n",
       "missing            24.281327  99   1  11.812251   6390.138298  3.600000\n",
       "pantry             17.328319  99   1  12.516061  15006.940000  1.360000\n",
       "personal care      16.933392  99   1  13.484737  15006.940000  2.222222\n",
       "pets               15.995927  99   1  15.266906   6390.138298  3.557143\n",
       "produce            18.494222  99   1  10.368024  14042.512281  1.300000\n",
       "snacks             17.830354  99   1  11.669675  15006.940000  1.262500"
      ]
     },
     "execution_count": 73,
     "metadata": {},
     "output_type": "execute_result"
    }
   ],
   "source": [
    "df_active.groupby('department').agg({'order_number': ['mean','max','min'], 'mean_spend': ['mean','max','min']})"
   ]
  },
  {
   "cell_type": "markdown",
   "id": "eb631e71",
   "metadata": {},
   "source": [
    "##### Most money is spent on alcohol (even though it's not frequent bought category of goods) which makes it interested to further analyse."
   ]
  },
  {
   "cell_type": "markdown",
   "id": "ffa6acba",
   "metadata": {},
   "source": [
    "### Living situation group"
   ]
  },
  {
   "cell_type": "code",
   "execution_count": 74,
   "id": "79db303c",
   "metadata": {},
   "outputs": [
    {
     "data": {
      "text/html": [
       "<div>\n",
       "<style scoped>\n",
       "    .dataframe tbody tr th:only-of-type {\n",
       "        vertical-align: middle;\n",
       "    }\n",
       "\n",
       "    .dataframe tbody tr th {\n",
       "        vertical-align: top;\n",
       "    }\n",
       "\n",
       "    .dataframe thead tr th {\n",
       "        text-align: left;\n",
       "    }\n",
       "\n",
       "    .dataframe thead tr:last-of-type th {\n",
       "        text-align: right;\n",
       "    }\n",
       "</style>\n",
       "<table border=\"1\" class=\"dataframe\">\n",
       "  <thead>\n",
       "    <tr>\n",
       "      <th></th>\n",
       "      <th colspan=\"3\" halign=\"left\">order_number</th>\n",
       "      <th colspan=\"3\" halign=\"left\">mean_spend</th>\n",
       "    </tr>\n",
       "    <tr>\n",
       "      <th></th>\n",
       "      <th>mean</th>\n",
       "      <th>max</th>\n",
       "      <th>min</th>\n",
       "      <th>mean</th>\n",
       "      <th>max</th>\n",
       "      <th>min</th>\n",
       "    </tr>\n",
       "    <tr>\n",
       "      <th>living</th>\n",
       "      <th></th>\n",
       "      <th></th>\n",
       "      <th></th>\n",
       "      <th></th>\n",
       "      <th></th>\n",
       "      <th></th>\n",
       "    </tr>\n",
       "  </thead>\n",
       "  <tbody>\n",
       "    <tr>\n",
       "      <th>living alone</th>\n",
       "      <td>17.957922</td>\n",
       "      <td>99</td>\n",
       "      <td>1</td>\n",
       "      <td>12.102657</td>\n",
       "      <td>15006.940000</td>\n",
       "      <td>1.0</td>\n",
       "    </tr>\n",
       "    <tr>\n",
       "      <th>shared living</th>\n",
       "      <td>17.792891</td>\n",
       "      <td>99</td>\n",
       "      <td>1</td>\n",
       "      <td>11.877157</td>\n",
       "      <td>10209.987755</td>\n",
       "      <td>1.0</td>\n",
       "    </tr>\n",
       "  </tbody>\n",
       "</table>\n",
       "</div>"
      ],
      "text/plain": [
       "              order_number         mean_spend                   \n",
       "                      mean max min       mean           max  min\n",
       "living                                                          \n",
       "living alone     17.957922  99   1  12.102657  15006.940000  1.0\n",
       "shared living    17.792891  99   1  11.877157  10209.987755  1.0"
      ]
     },
     "execution_count": 74,
     "metadata": {},
     "output_type": "execute_result"
    }
   ],
   "source": [
    "df_active.groupby('living').agg({'order_number': ['mean','max','min'], 'mean_spend': ['mean','max','min']})"
   ]
  },
  {
   "cell_type": "markdown",
   "id": "15f4f953",
   "metadata": {},
   "source": [
    "##### Customers who live alone tend to have slightly higher spends"
   ]
  },
  {
   "cell_type": "markdown",
   "id": "d5ab2afc",
   "metadata": {},
   "source": [
    "## 4.10.8-9 Profiles X Regions & Departments"
   ]
  },
  {
   "cell_type": "markdown",
   "id": "ab67cf50",
   "metadata": {},
   "source": [
    "### Age group & region"
   ]
  },
  {
   "cell_type": "code",
   "execution_count": 76,
   "id": "f33410ef",
   "metadata": {},
   "outputs": [],
   "source": [
    "cross_age_region = pd.crosstab(df_active['region'], df_active['age_group'].sort_values(), dropna = False)"
   ]
  },
  {
   "cell_type": "code",
   "execution_count": 77,
   "id": "9dad504e",
   "metadata": {},
   "outputs": [
    {
     "data": {
      "text/html": [
       "<div>\n",
       "<style scoped>\n",
       "    .dataframe tbody tr th:only-of-type {\n",
       "        vertical-align: middle;\n",
       "    }\n",
       "\n",
       "    .dataframe tbody tr th {\n",
       "        vertical-align: top;\n",
       "    }\n",
       "\n",
       "    .dataframe thead th {\n",
       "        text-align: right;\n",
       "    }\n",
       "</style>\n",
       "<table border=\"1\" class=\"dataframe\">\n",
       "  <thead>\n",
       "    <tr style=\"text-align: right;\">\n",
       "      <th>age_group</th>\n",
       "      <th>18-44</th>\n",
       "      <th>45-64</th>\n",
       "      <th>65+</th>\n",
       "    </tr>\n",
       "    <tr>\n",
       "      <th>region</th>\n",
       "      <th></th>\n",
       "      <th></th>\n",
       "      <th></th>\n",
       "    </tr>\n",
       "  </thead>\n",
       "  <tbody>\n",
       "    <tr>\n",
       "      <th>Midwest</th>\n",
       "      <td>3070988</td>\n",
       "      <td>2286479</td>\n",
       "      <td>1904046</td>\n",
       "    </tr>\n",
       "    <tr>\n",
       "      <th>Northeast</th>\n",
       "      <td>2282267</td>\n",
       "      <td>1697611</td>\n",
       "      <td>1484807</td>\n",
       "    </tr>\n",
       "    <tr>\n",
       "      <th>South</th>\n",
       "      <td>3902513</td>\n",
       "      <td>2826773</td>\n",
       "      <td>2396455</td>\n",
       "    </tr>\n",
       "    <tr>\n",
       "      <th>West</th>\n",
       "      <td>3823201</td>\n",
       "      <td>2879188</td>\n",
       "      <td>2410236</td>\n",
       "    </tr>\n",
       "  </tbody>\n",
       "</table>\n",
       "</div>"
      ],
      "text/plain": [
       "age_group    18-44    45-64      65+\n",
       "region                              \n",
       "Midwest    3070988  2286479  1904046\n",
       "Northeast  2282267  1697611  1484807\n",
       "South      3902513  2826773  2396455\n",
       "West       3823201  2879188  2410236"
      ]
     },
     "execution_count": 77,
     "metadata": {},
     "output_type": "execute_result"
    }
   ],
   "source": [
    "cross_age_region"
   ]
  },
  {
   "cell_type": "code",
   "execution_count": 82,
   "id": "91eafb0b",
   "metadata": {},
   "outputs": [
    {
     "data": {
      "image/png": "[encoded data removed]",
      "text/plain": [
       "<Figure size 640x480 with 1 Axes>"
      ]
     },
     "metadata": {},
     "output_type": "display_data"
    }
   ],
   "source": [
    "bar_age_region = cross_age_region.plot.bar()"
   ]
  },
  {
   "cell_type": "markdown",
   "id": "00135112",
   "metadata": {},
   "source": [
    "##### In each region the distribution of age groups is the same"
   ]
  },
  {
   "cell_type": "code",
   "execution_count": 83,
   "id": "30cd27ca",
   "metadata": {},
   "outputs": [],
   "source": [
    "# export\n",
    "bar_age_region.figure.savefig(os.path.join(path, '04 Analysis', 'Visualizations', 'bar_age_region.png'))"
   ]
  },
  {
   "cell_type": "markdown",
   "id": "2879cf8b",
   "metadata": {},
   "source": [
    "### Age group & goods"
   ]
  },
  {
   "cell_type": "code",
   "execution_count": 84,
   "id": "b76f26bf",
   "metadata": {},
   "outputs": [],
   "source": [
    "cross_age_goods = pd.crosstab(df_active['department'], df_active['age_group'].sort_values(), dropna = False)"
   ]
  },
  {
   "cell_type": "code",
   "execution_count": 86,
   "id": "71141167",
   "metadata": {},
   "outputs": [
    {
     "data": {
      "text/html": [
       "<div>\n",
       "<style scoped>\n",
       "    .dataframe tbody tr th:only-of-type {\n",
       "        vertical-align: middle;\n",
       "    }\n",
       "\n",
       "    .dataframe tbody tr th {\n",
       "        vertical-align: top;\n",
       "    }\n",
       "\n",
       "    .dataframe thead th {\n",
       "        text-align: right;\n",
       "    }\n",
       "</style>\n",
       "<table border=\"1\" class=\"dataframe\">\n",
       "  <thead>\n",
       "    <tr style=\"text-align: right;\">\n",
       "      <th>age_group</th>\n",
       "      <th>18-44</th>\n",
       "      <th>45-64</th>\n",
       "      <th>65+</th>\n",
       "    </tr>\n",
       "    <tr>\n",
       "      <th>department</th>\n",
       "      <th></th>\n",
       "      <th></th>\n",
       "      <th></th>\n",
       "    </tr>\n",
       "  </thead>\n",
       "  <tbody>\n",
       "    <tr>\n",
       "      <th>alcohol</th>\n",
       "      <td>61355</td>\n",
       "      <td>46579</td>\n",
       "      <td>36693</td>\n",
       "    </tr>\n",
       "    <tr>\n",
       "      <th>babies</th>\n",
       "      <td>174278</td>\n",
       "      <td>129910</td>\n",
       "      <td>106204</td>\n",
       "    </tr>\n",
       "    <tr>\n",
       "      <th>bakery</th>\n",
       "      <td>474027</td>\n",
       "      <td>350804</td>\n",
       "      <td>295997</td>\n",
       "    </tr>\n",
       "    <tr>\n",
       "      <th>beverages</th>\n",
       "      <td>1073194</td>\n",
       "      <td>814687</td>\n",
       "      <td>684020</td>\n",
       "    </tr>\n",
       "    <tr>\n",
       "      <th>breakfast</th>\n",
       "      <td>284280</td>\n",
       "      <td>211274</td>\n",
       "      <td>175296</td>\n",
       "    </tr>\n",
       "    <tr>\n",
       "      <th>bulk</th>\n",
       "      <td>14208</td>\n",
       "      <td>10298</td>\n",
       "      <td>8945</td>\n",
       "    </tr>\n",
       "    <tr>\n",
       "      <th>canned goods</th>\n",
       "      <td>428791</td>\n",
       "      <td>315774</td>\n",
       "      <td>267509</td>\n",
       "    </tr>\n",
       "    <tr>\n",
       "      <th>dairy eggs</th>\n",
       "      <td>2196620</td>\n",
       "      <td>1612490</td>\n",
       "      <td>1368072</td>\n",
       "    </tr>\n",
       "    <tr>\n",
       "      <th>deli</th>\n",
       "      <td>424525</td>\n",
       "      <td>314110</td>\n",
       "      <td>265199</td>\n",
       "    </tr>\n",
       "    <tr>\n",
       "      <th>dry goods pasta</th>\n",
       "      <td>347900</td>\n",
       "      <td>256920</td>\n",
       "      <td>217316</td>\n",
       "    </tr>\n",
       "    <tr>\n",
       "      <th>frozen</th>\n",
       "      <td>890332</td>\n",
       "      <td>667149</td>\n",
       "      <td>564250</td>\n",
       "    </tr>\n",
       "    <tr>\n",
       "      <th>household</th>\n",
       "      <td>294367</td>\n",
       "      <td>218860</td>\n",
       "      <td>186630</td>\n",
       "    </tr>\n",
       "    <tr>\n",
       "      <th>international</th>\n",
       "      <td>109049</td>\n",
       "      <td>79743</td>\n",
       "      <td>67199</td>\n",
       "    </tr>\n",
       "    <tr>\n",
       "      <th>meat seafood</th>\n",
       "      <td>283704</td>\n",
       "      <td>209927</td>\n",
       "      <td>181150</td>\n",
       "    </tr>\n",
       "    <tr>\n",
       "      <th>missing</th>\n",
       "      <td>27513</td>\n",
       "      <td>20340</td>\n",
       "      <td>16915</td>\n",
       "    </tr>\n",
       "    <tr>\n",
       "      <th>pantry</th>\n",
       "      <td>751393</td>\n",
       "      <td>558929</td>\n",
       "      <td>472383</td>\n",
       "    </tr>\n",
       "    <tr>\n",
       "      <th>personal care</th>\n",
       "      <td>178518</td>\n",
       "      <td>134736</td>\n",
       "      <td>111052</td>\n",
       "    </tr>\n",
       "    <tr>\n",
       "      <th>pets</th>\n",
       "      <td>39652</td>\n",
       "      <td>28293</td>\n",
       "      <td>25115</td>\n",
       "    </tr>\n",
       "    <tr>\n",
       "      <th>produce</th>\n",
       "      <td>3854970</td>\n",
       "      <td>2841664</td>\n",
       "      <td>2417050</td>\n",
       "    </tr>\n",
       "    <tr>\n",
       "      <th>snacks</th>\n",
       "      <td>1170293</td>\n",
       "      <td>867564</td>\n",
       "      <td>728549</td>\n",
       "    </tr>\n",
       "  </tbody>\n",
       "</table>\n",
       "</div>"
      ],
      "text/plain": [
       "age_group          18-44    45-64      65+\n",
       "department                                \n",
       "alcohol            61355    46579    36693\n",
       "babies            174278   129910   106204\n",
       "bakery            474027   350804   295997\n",
       "beverages        1073194   814687   684020\n",
       "breakfast         284280   211274   175296\n",
       "bulk               14208    10298     8945\n",
       "canned goods      428791   315774   267509\n",
       "dairy eggs       2196620  1612490  1368072\n",
       "deli              424525   314110   265199\n",
       "dry goods pasta   347900   256920   217316\n",
       "frozen            890332   667149   564250\n",
       "household         294367   218860   186630\n",
       "international     109049    79743    67199\n",
       "meat seafood      283704   209927   181150\n",
       "missing            27513    20340    16915\n",
       "pantry            751393   558929   472383\n",
       "personal care     178518   134736   111052\n",
       "pets               39652    28293    25115\n",
       "produce          3854970  2841664  2417050\n",
       "snacks           1170293   867564   728549"
      ]
     },
     "execution_count": 86,
     "metadata": {},
     "output_type": "execute_result"
    }
   ],
   "source": [
    "cross_age_goods"
   ]
  },
  {
   "cell_type": "code",
   "execution_count": 85,
   "id": "aee908f4",
   "metadata": {},
   "outputs": [
    {
     "data": {
      "image/png": "[encoded data removed]",
      "text/plain": [
       "<Figure size 640x480 with 1 Axes>"
      ]
     },
     "metadata": {},
     "output_type": "display_data"
    }
   ],
   "source": [
    "bar_age_goods = cross_age_goods.plot.bar()"
   ]
  },
  {
   "cell_type": "markdown",
   "id": "766fada4",
   "metadata": {},
   "source": [
    "##### No visible difference for age groups across departments"
   ]
  },
  {
   "cell_type": "code",
   "execution_count": 87,
   "id": "a0ea538e",
   "metadata": {},
   "outputs": [],
   "source": [
    "# export\n",
    "bar_age_goods.figure.savefig(os.path.join(path, '04 Analysis', 'Visualizations', 'bar_age_goods.png'))"
   ]
  },
  {
   "cell_type": "markdown",
   "id": "dd19de04",
   "metadata": {},
   "source": [
    "### Income group & region"
   ]
  },
  {
   "cell_type": "code",
   "execution_count": 88,
   "id": "ca8766a3",
   "metadata": {},
   "outputs": [],
   "source": [
    "cross_income_region = pd.crosstab(df_active['region'], df_active['income_group'].sort_values(), dropna = False)"
   ]
  },
  {
   "cell_type": "code",
   "execution_count": 89,
   "id": "c313f512",
   "metadata": {},
   "outputs": [
    {
     "data": {
      "text/html": [
       "<div>\n",
       "<style scoped>\n",
       "    .dataframe tbody tr th:only-of-type {\n",
       "        vertical-align: middle;\n",
       "    }\n",
       "\n",
       "    .dataframe tbody tr th {\n",
       "        vertical-align: top;\n",
       "    }\n",
       "\n",
       "    .dataframe thead th {\n",
       "        text-align: right;\n",
       "    }\n",
       "</style>\n",
       "<table border=\"1\" class=\"dataframe\">\n",
       "  <thead>\n",
       "    <tr style=\"text-align: right;\">\n",
       "      <th>income_group</th>\n",
       "      <th>67-97T</th>\n",
       "      <th>97-127T</th>\n",
       "      <th>&lt;67T</th>\n",
       "      <th>&gt;127T</th>\n",
       "    </tr>\n",
       "    <tr>\n",
       "      <th>region</th>\n",
       "      <th></th>\n",
       "      <th></th>\n",
       "      <th></th>\n",
       "      <th></th>\n",
       "    </tr>\n",
       "  </thead>\n",
       "  <tbody>\n",
       "    <tr>\n",
       "      <th>Midwest</th>\n",
       "      <td>1820794</td>\n",
       "      <td>1775630</td>\n",
       "      <td>1770874</td>\n",
       "      <td>1894215</td>\n",
       "    </tr>\n",
       "    <tr>\n",
       "      <th>Northeast</th>\n",
       "      <td>1385485</td>\n",
       "      <td>1315501</td>\n",
       "      <td>1354113</td>\n",
       "      <td>1409586</td>\n",
       "    </tr>\n",
       "    <tr>\n",
       "      <th>South</th>\n",
       "      <td>2382629</td>\n",
       "      <td>2151133</td>\n",
       "      <td>2277713</td>\n",
       "      <td>2314266</td>\n",
       "    </tr>\n",
       "    <tr>\n",
       "      <th>West</th>\n",
       "      <td>2325158</td>\n",
       "      <td>2214153</td>\n",
       "      <td>2258778</td>\n",
       "      <td>2314536</td>\n",
       "    </tr>\n",
       "  </tbody>\n",
       "</table>\n",
       "</div>"
      ],
      "text/plain": [
       "income_group   67-97T  97-127T     <67T    >127T\n",
       "region                                          \n",
       "Midwest       1820794  1775630  1770874  1894215\n",
       "Northeast     1385485  1315501  1354113  1409586\n",
       "South         2382629  2151133  2277713  2314266\n",
       "West          2325158  2214153  2258778  2314536"
      ]
     },
     "execution_count": 89,
     "metadata": {},
     "output_type": "execute_result"
    }
   ],
   "source": [
    "cross_income_region"
   ]
  },
  {
   "cell_type": "code",
   "execution_count": 129,
   "id": "6a2fcfa8",
   "metadata": {},
   "outputs": [
    {
     "data": {
      "text/plain": [
       "<matplotlib.legend.Legend at 0x1f605237390>"
      ]
     },
     "execution_count": 129,
     "metadata": {},
     "output_type": "execute_result"
    },
    {
     "data": {
      "image/png": "[encoded data removed]",
      "text/plain": [
       "<Figure size 640x480 with 1 Axes>"
      ]
     },
     "metadata": {},
     "output_type": "display_data"
    }
   ],
   "source": [
    "bar_income_region = cross_income_region.plot.bar()\n",
    "plt.legend(loc='center left', bbox_to_anchor=(1.0, 0.5))"
   ]
  },
  {
   "cell_type": "markdown",
   "id": "d819f256",
   "metadata": {},
   "source": [
    "##### Midwest and Northeast have more customers with high income"
   ]
  },
  {
   "cell_type": "code",
   "execution_count": 130,
   "id": "e068e96f",
   "metadata": {},
   "outputs": [],
   "source": [
    "# export\n",
    "bar_income_region.figure.savefig(os.path.join(path, '04 Analysis', 'Visualizations', 'bar_income_region.png'))"
   ]
  },
  {
   "cell_type": "markdown",
   "id": "6d9caec7",
   "metadata": {},
   "source": [
    "### Icome group & goods"
   ]
  },
  {
   "cell_type": "code",
   "execution_count": 121,
   "id": "b56c6911",
   "metadata": {},
   "outputs": [],
   "source": [
    "cross_income_goods = pd.crosstab(df_active['department'], df_active['income_group'].sort_values(), dropna = False)"
   ]
  },
  {
   "cell_type": "code",
   "execution_count": 122,
   "id": "61e1a9b6",
   "metadata": {},
   "outputs": [
    {
     "data": {
      "text/html": [
       "<div>\n",
       "<style scoped>\n",
       "    .dataframe tbody tr th:only-of-type {\n",
       "        vertical-align: middle;\n",
       "    }\n",
       "\n",
       "    .dataframe tbody tr th {\n",
       "        vertical-align: top;\n",
       "    }\n",
       "\n",
       "    .dataframe thead th {\n",
       "        text-align: right;\n",
       "    }\n",
       "</style>\n",
       "<table border=\"1\" class=\"dataframe\">\n",
       "  <thead>\n",
       "    <tr style=\"text-align: right;\">\n",
       "      <th>income_group</th>\n",
       "      <th>67-97T</th>\n",
       "      <th>97-127T</th>\n",
       "      <th>&lt;67T</th>\n",
       "      <th>&gt;127T</th>\n",
       "    </tr>\n",
       "    <tr>\n",
       "      <th>department</th>\n",
       "      <th></th>\n",
       "      <th></th>\n",
       "      <th></th>\n",
       "      <th></th>\n",
       "    </tr>\n",
       "  </thead>\n",
       "  <tbody>\n",
       "    <tr>\n",
       "      <th>alcohol</th>\n",
       "      <td>33731</td>\n",
       "      <td>32666</td>\n",
       "      <td>36650</td>\n",
       "      <td>41580</td>\n",
       "    </tr>\n",
       "    <tr>\n",
       "      <th>babies</th>\n",
       "      <td>113775</td>\n",
       "      <td>105071</td>\n",
       "      <td>82803</td>\n",
       "      <td>108743</td>\n",
       "    </tr>\n",
       "    <tr>\n",
       "      <th>bakery</th>\n",
       "      <td>287515</td>\n",
       "      <td>273906</td>\n",
       "      <td>261763</td>\n",
       "      <td>297644</td>\n",
       "    </tr>\n",
       "    <tr>\n",
       "      <th>beverages</th>\n",
       "      <td>615955</td>\n",
       "      <td>585163</td>\n",
       "      <td>737043</td>\n",
       "      <td>633740</td>\n",
       "    </tr>\n",
       "    <tr>\n",
       "      <th>breakfast</th>\n",
       "      <td>163154</td>\n",
       "      <td>155214</td>\n",
       "      <td>185892</td>\n",
       "      <td>166590</td>\n",
       "    </tr>\n",
       "    <tr>\n",
       "      <th>bulk</th>\n",
       "      <td>8682</td>\n",
       "      <td>7740</td>\n",
       "      <td>9320</td>\n",
       "      <td>7709</td>\n",
       "    </tr>\n",
       "    <tr>\n",
       "      <th>canned goods</th>\n",
       "      <td>268170</td>\n",
       "      <td>251979</td>\n",
       "      <td>219841</td>\n",
       "      <td>272084</td>\n",
       "    </tr>\n",
       "    <tr>\n",
       "      <th>dairy eggs</th>\n",
       "      <td>1350635</td>\n",
       "      <td>1263919</td>\n",
       "      <td>1215904</td>\n",
       "      <td>1346724</td>\n",
       "    </tr>\n",
       "    <tr>\n",
       "      <th>deli</th>\n",
       "      <td>257761</td>\n",
       "      <td>243439</td>\n",
       "      <td>245437</td>\n",
       "      <td>257197</td>\n",
       "    </tr>\n",
       "    <tr>\n",
       "      <th>dry goods pasta</th>\n",
       "      <td>218465</td>\n",
       "      <td>207920</td>\n",
       "      <td>177781</td>\n",
       "      <td>217970</td>\n",
       "    </tr>\n",
       "    <tr>\n",
       "      <th>frozen</th>\n",
       "      <td>548118</td>\n",
       "      <td>514007</td>\n",
       "      <td>505256</td>\n",
       "      <td>554350</td>\n",
       "    </tr>\n",
       "    <tr>\n",
       "      <th>household</th>\n",
       "      <td>173362</td>\n",
       "      <td>163606</td>\n",
       "      <td>181595</td>\n",
       "      <td>181294</td>\n",
       "    </tr>\n",
       "    <tr>\n",
       "      <th>international</th>\n",
       "      <td>68527</td>\n",
       "      <td>63407</td>\n",
       "      <td>57089</td>\n",
       "      <td>66968</td>\n",
       "    </tr>\n",
       "    <tr>\n",
       "      <th>meat seafood</th>\n",
       "      <td>185521</td>\n",
       "      <td>176222</td>\n",
       "      <td>125796</td>\n",
       "      <td>187242</td>\n",
       "    </tr>\n",
       "    <tr>\n",
       "      <th>missing</th>\n",
       "      <td>17064</td>\n",
       "      <td>15267</td>\n",
       "      <td>15742</td>\n",
       "      <td>16695</td>\n",
       "    </tr>\n",
       "    <tr>\n",
       "      <th>pantry</th>\n",
       "      <td>461028</td>\n",
       "      <td>440445</td>\n",
       "      <td>413041</td>\n",
       "      <td>468191</td>\n",
       "    </tr>\n",
       "    <tr>\n",
       "      <th>personal care</th>\n",
       "      <td>108273</td>\n",
       "      <td>100497</td>\n",
       "      <td>106777</td>\n",
       "      <td>108759</td>\n",
       "    </tr>\n",
       "    <tr>\n",
       "      <th>pets</th>\n",
       "      <td>22782</td>\n",
       "      <td>23252</td>\n",
       "      <td>21593</td>\n",
       "      <td>25433</td>\n",
       "    </tr>\n",
       "    <tr>\n",
       "      <th>produce</th>\n",
       "      <td>2392981</td>\n",
       "      <td>2253998</td>\n",
       "      <td>2109155</td>\n",
       "      <td>2357550</td>\n",
       "    </tr>\n",
       "    <tr>\n",
       "      <th>snacks</th>\n",
       "      <td>618567</td>\n",
       "      <td>578699</td>\n",
       "      <td>953000</td>\n",
       "      <td>616140</td>\n",
       "    </tr>\n",
       "  </tbody>\n",
       "</table>\n",
       "</div>"
      ],
      "text/plain": [
       "income_group      67-97T  97-127T     <67T    >127T\n",
       "department                                         \n",
       "alcohol            33731    32666    36650    41580\n",
       "babies            113775   105071    82803   108743\n",
       "bakery            287515   273906   261763   297644\n",
       "beverages         615955   585163   737043   633740\n",
       "breakfast         163154   155214   185892   166590\n",
       "bulk                8682     7740     9320     7709\n",
       "canned goods      268170   251979   219841   272084\n",
       "dairy eggs       1350635  1263919  1215904  1346724\n",
       "deli              257761   243439   245437   257197\n",
       "dry goods pasta   218465   207920   177781   217970\n",
       "frozen            548118   514007   505256   554350\n",
       "household         173362   163606   181595   181294\n",
       "international      68527    63407    57089    66968\n",
       "meat seafood      185521   176222   125796   187242\n",
       "missing            17064    15267    15742    16695\n",
       "pantry            461028   440445   413041   468191\n",
       "personal care     108273   100497   106777   108759\n",
       "pets               22782    23252    21593    25433\n",
       "produce          2392981  2253998  2109155  2357550\n",
       "snacks            618567   578699   953000   616140"
      ]
     },
     "execution_count": 122,
     "metadata": {},
     "output_type": "execute_result"
    }
   ],
   "source": [
    "cross_income_goods"
   ]
  },
  {
   "cell_type": "code",
   "execution_count": 123,
   "id": "f2c13b05",
   "metadata": {},
   "outputs": [
    {
     "data": {
      "text/plain": [
       "<matplotlib.legend.Legend at 0x1f6044cbfd0>"
      ]
     },
     "execution_count": 123,
     "metadata": {},
     "output_type": "execute_result"
    },
    {
     "data": {
      "image/png": "[encoded data removed]",
      "text/plain": [
       "<Figure size 640x480 with 1 Axes>"
      ]
     },
     "metadata": {},
     "output_type": "display_data"
    }
   ],
   "source": [
    "bar_income_goods = cross_income_goods.plot.bar()\n",
    "plt.legend(loc='center left', bbox_to_anchor=(1.0, 0.5))"
   ]
  },
  {
   "cell_type": "markdown",
   "id": "82872bc9",
   "metadata": {},
   "source": [
    "##### Customers with less income buy more then others snacks, beverages and breakfast products. Alcohol (interesting category in this analysis) has most wealthy customers as most frequent buyers. Also bakery, canned goods, dairy and eggs, dry goods, pantry and personal care goods categories are mostly bought by customers with most income."
   ]
  },
  {
   "cell_type": "code",
   "execution_count": 124,
   "id": "25bc4e25",
   "metadata": {},
   "outputs": [],
   "source": [
    "# export\n",
    "bar_income_goods.figure.savefig(os.path.join(path, '04 Analysis', 'Visualizations', 'bar_income_goods.png'))"
   ]
  },
  {
   "cell_type": "markdown",
   "id": "23f0acf7",
   "metadata": {},
   "source": [
    "### Goods & region"
   ]
  },
  {
   "cell_type": "code",
   "execution_count": 125,
   "id": "a3319656",
   "metadata": {},
   "outputs": [],
   "source": [
    "cross_region_goods = pd.crosstab(df_active['department'], df_active['region'].sort_values(), dropna = False)"
   ]
  },
  {
   "cell_type": "code",
   "execution_count": 126,
   "id": "a3abd9f0",
   "metadata": {},
   "outputs": [
    {
     "data": {
      "text/html": [
       "<div>\n",
       "<style scoped>\n",
       "    .dataframe tbody tr th:only-of-type {\n",
       "        vertical-align: middle;\n",
       "    }\n",
       "\n",
       "    .dataframe tbody tr th {\n",
       "        vertical-align: top;\n",
       "    }\n",
       "\n",
       "    .dataframe thead th {\n",
       "        text-align: right;\n",
       "    }\n",
       "</style>\n",
       "<table border=\"1\" class=\"dataframe\">\n",
       "  <thead>\n",
       "    <tr style=\"text-align: right;\">\n",
       "      <th>region</th>\n",
       "      <th>Midwest</th>\n",
       "      <th>Northeast</th>\n",
       "      <th>South</th>\n",
       "      <th>West</th>\n",
       "    </tr>\n",
       "    <tr>\n",
       "      <th>department</th>\n",
       "      <th></th>\n",
       "      <th></th>\n",
       "      <th></th>\n",
       "      <th></th>\n",
       "    </tr>\n",
       "  </thead>\n",
       "  <tbody>\n",
       "    <tr>\n",
       "      <th>alcohol</th>\n",
       "      <td>34043</td>\n",
       "      <td>25017</td>\n",
       "      <td>42845</td>\n",
       "      <td>42722</td>\n",
       "    </tr>\n",
       "    <tr>\n",
       "      <th>babies</th>\n",
       "      <td>95741</td>\n",
       "      <td>72712</td>\n",
       "      <td>123555</td>\n",
       "      <td>118384</td>\n",
       "    </tr>\n",
       "    <tr>\n",
       "      <th>bakery</th>\n",
       "      <td>261753</td>\n",
       "      <td>199300</td>\n",
       "      <td>327682</td>\n",
       "      <td>332093</td>\n",
       "    </tr>\n",
       "    <tr>\n",
       "      <th>beverages</th>\n",
       "      <td>598979</td>\n",
       "      <td>462929</td>\n",
       "      <td>759969</td>\n",
       "      <td>750024</td>\n",
       "    </tr>\n",
       "    <tr>\n",
       "      <th>breakfast</th>\n",
       "      <td>156155</td>\n",
       "      <td>117904</td>\n",
       "      <td>196944</td>\n",
       "      <td>199847</td>\n",
       "    </tr>\n",
       "    <tr>\n",
       "      <th>bulk</th>\n",
       "      <td>7929</td>\n",
       "      <td>5599</td>\n",
       "      <td>9714</td>\n",
       "      <td>10209</td>\n",
       "    </tr>\n",
       "    <tr>\n",
       "      <th>canned goods</th>\n",
       "      <td>237459</td>\n",
       "      <td>176936</td>\n",
       "      <td>298737</td>\n",
       "      <td>298942</td>\n",
       "    </tr>\n",
       "    <tr>\n",
       "      <th>dairy eggs</th>\n",
       "      <td>1212490</td>\n",
       "      <td>914616</td>\n",
       "      <td>1527417</td>\n",
       "      <td>1522659</td>\n",
       "    </tr>\n",
       "    <tr>\n",
       "      <th>deli</th>\n",
       "      <td>234464</td>\n",
       "      <td>178398</td>\n",
       "      <td>294890</td>\n",
       "      <td>296082</td>\n",
       "    </tr>\n",
       "    <tr>\n",
       "      <th>dry goods pasta</th>\n",
       "      <td>193463</td>\n",
       "      <td>143817</td>\n",
       "      <td>241120</td>\n",
       "      <td>243736</td>\n",
       "    </tr>\n",
       "    <tr>\n",
       "      <th>frozen</th>\n",
       "      <td>498225</td>\n",
       "      <td>370436</td>\n",
       "      <td>627369</td>\n",
       "      <td>625701</td>\n",
       "    </tr>\n",
       "    <tr>\n",
       "      <th>household</th>\n",
       "      <td>166992</td>\n",
       "      <td>124604</td>\n",
       "      <td>202415</td>\n",
       "      <td>205846</td>\n",
       "    </tr>\n",
       "    <tr>\n",
       "      <th>international</th>\n",
       "      <td>60666</td>\n",
       "      <td>44678</td>\n",
       "      <td>74523</td>\n",
       "      <td>76124</td>\n",
       "    </tr>\n",
       "    <tr>\n",
       "      <th>meat seafood</th>\n",
       "      <td>158260</td>\n",
       "      <td>118571</td>\n",
       "      <td>198411</td>\n",
       "      <td>199539</td>\n",
       "    </tr>\n",
       "    <tr>\n",
       "      <th>missing</th>\n",
       "      <td>15563</td>\n",
       "      <td>11512</td>\n",
       "      <td>19501</td>\n",
       "      <td>18192</td>\n",
       "    </tr>\n",
       "    <tr>\n",
       "      <th>pantry</th>\n",
       "      <td>420334</td>\n",
       "      <td>312731</td>\n",
       "      <td>523581</td>\n",
       "      <td>526059</td>\n",
       "    </tr>\n",
       "    <tr>\n",
       "      <th>personal care</th>\n",
       "      <td>100398</td>\n",
       "      <td>74765</td>\n",
       "      <td>126202</td>\n",
       "      <td>122941</td>\n",
       "    </tr>\n",
       "    <tr>\n",
       "      <th>pets</th>\n",
       "      <td>21358</td>\n",
       "      <td>17734</td>\n",
       "      <td>26674</td>\n",
       "      <td>27294</td>\n",
       "    </tr>\n",
       "    <tr>\n",
       "      <th>produce</th>\n",
       "      <td>2142098</td>\n",
       "      <td>1599272</td>\n",
       "      <td>2695255</td>\n",
       "      <td>2677059</td>\n",
       "    </tr>\n",
       "    <tr>\n",
       "      <th>snacks</th>\n",
       "      <td>645143</td>\n",
       "      <td>493154</td>\n",
       "      <td>808937</td>\n",
       "      <td>819172</td>\n",
       "    </tr>\n",
       "  </tbody>\n",
       "</table>\n",
       "</div>"
      ],
      "text/plain": [
       "region           Midwest  Northeast    South     West\n",
       "department                                           \n",
       "alcohol            34043      25017    42845    42722\n",
       "babies             95741      72712   123555   118384\n",
       "bakery            261753     199300   327682   332093\n",
       "beverages         598979     462929   759969   750024\n",
       "breakfast         156155     117904   196944   199847\n",
       "bulk                7929       5599     9714    10209\n",
       "canned goods      237459     176936   298737   298942\n",
       "dairy eggs       1212490     914616  1527417  1522659\n",
       "deli              234464     178398   294890   296082\n",
       "dry goods pasta   193463     143817   241120   243736\n",
       "frozen            498225     370436   627369   625701\n",
       "household         166992     124604   202415   205846\n",
       "international      60666      44678    74523    76124\n",
       "meat seafood      158260     118571   198411   199539\n",
       "missing            15563      11512    19501    18192\n",
       "pantry            420334     312731   523581   526059\n",
       "personal care     100398      74765   126202   122941\n",
       "pets               21358      17734    26674    27294\n",
       "produce          2142098    1599272  2695255  2677059\n",
       "snacks            645143     493154   808937   819172"
      ]
     },
     "execution_count": 126,
     "metadata": {},
     "output_type": "execute_result"
    }
   ],
   "source": [
    "cross_region_goods"
   ]
  },
  {
   "cell_type": "code",
   "execution_count": 127,
   "id": "ea3fbf77",
   "metadata": {},
   "outputs": [
    {
     "data": {
      "text/plain": [
       "<matplotlib.legend.Legend at 0x1f600e56ed0>"
      ]
     },
     "execution_count": 127,
     "metadata": {},
     "output_type": "execute_result"
    },
    {
     "data": {
      "image/png": "[encoded data removed]",
      "text/plain": [
       "<Figure size 640x480 with 1 Axes>"
      ]
     },
     "metadata": {},
     "output_type": "display_data"
    }
   ],
   "source": [
    "bar_region_goods = cross_region_goods.plot.bar()\n",
    "plt.legend(loc='center left', bbox_to_anchor=(1.0, 0.5))"
   ]
  },
  {
   "cell_type": "markdown",
   "id": "7ed11702",
   "metadata": {},
   "source": [
    "##### Alcohol is mostly sold in South and West regions. In general no clear trends visible"
   ]
  },
  {
   "cell_type": "code",
   "execution_count": 128,
   "id": "9d3f3928",
   "metadata": {},
   "outputs": [],
   "source": [
    "# export\n",
    "bar_region_goods.figure.savefig(os.path.join(path, '04 Analysis', 'Visualizations', 'bar_region_goods.png'))"
   ]
  },
  {
   "cell_type": "markdown",
   "id": "127361c3",
   "metadata": {},
   "source": [
    "### Living situation group & region"
   ]
  },
  {
   "cell_type": "code",
   "execution_count": 135,
   "id": "65679a0b",
   "metadata": {},
   "outputs": [],
   "source": [
    "cross_living_region = pd.crosstab(df_active['region'], df_active['living'].sort_values(), dropna = False)"
   ]
  },
  {
   "cell_type": "code",
   "execution_count": 136,
   "id": "a6359e42",
   "metadata": {},
   "outputs": [
    {
     "data": {
      "text/html": [
       "<div>\n",
       "<style scoped>\n",
       "    .dataframe tbody tr th:only-of-type {\n",
       "        vertical-align: middle;\n",
       "    }\n",
       "\n",
       "    .dataframe tbody tr th {\n",
       "        vertical-align: top;\n",
       "    }\n",
       "\n",
       "    .dataframe thead th {\n",
       "        text-align: right;\n",
       "    }\n",
       "</style>\n",
       "<table border=\"1\" class=\"dataframe\">\n",
       "  <thead>\n",
       "    <tr style=\"text-align: right;\">\n",
       "      <th>living</th>\n",
       "      <th>living alone</th>\n",
       "      <th>shared living</th>\n",
       "    </tr>\n",
       "    <tr>\n",
       "      <th>region</th>\n",
       "      <th></th>\n",
       "      <th></th>\n",
       "    </tr>\n",
       "  </thead>\n",
       "  <tbody>\n",
       "    <tr>\n",
       "      <th>Midwest</th>\n",
       "      <td>1822816</td>\n",
       "      <td>5438697</td>\n",
       "    </tr>\n",
       "    <tr>\n",
       "      <th>Northeast</th>\n",
       "      <td>1354482</td>\n",
       "      <td>4110203</td>\n",
       "    </tr>\n",
       "    <tr>\n",
       "      <th>South</th>\n",
       "      <td>2285817</td>\n",
       "      <td>6839924</td>\n",
       "    </tr>\n",
       "    <tr>\n",
       "      <th>West</th>\n",
       "      <td>2276566</td>\n",
       "      <td>6836059</td>\n",
       "    </tr>\n",
       "  </tbody>\n",
       "</table>\n",
       "</div>"
      ],
      "text/plain": [
       "living     living alone  shared living\n",
       "region                                \n",
       "Midwest         1822816        5438697\n",
       "Northeast       1354482        4110203\n",
       "South           2285817        6839924\n",
       "West            2276566        6836059"
      ]
     },
     "execution_count": 136,
     "metadata": {},
     "output_type": "execute_result"
    }
   ],
   "source": [
    "cross_living_region"
   ]
  },
  {
   "cell_type": "code",
   "execution_count": 137,
   "id": "fba7f03e",
   "metadata": {},
   "outputs": [
    {
     "data": {
      "image/png": "[encoded data removed]",
      "text/plain": [
       "<Figure size 640x480 with 1 Axes>"
      ]
     },
     "metadata": {},
     "output_type": "display_data"
    }
   ],
   "source": [
    "bar_living_region = cross_living_region.plot.bar()"
   ]
  },
  {
   "cell_type": "markdown",
   "id": "522dbe87",
   "metadata": {},
   "source": [
    "##### Same tendency (most customers share don't live alone) for each region"
   ]
  },
  {
   "cell_type": "code",
   "execution_count": 138,
   "id": "cae0fc73",
   "metadata": {},
   "outputs": [],
   "source": [
    "# export\n",
    "bar_living_region.figure.savefig(os.path.join(path, '04 Analysis', 'Visualizations', 'bar_living_region.png'))"
   ]
  },
  {
   "cell_type": "markdown",
   "id": "575c43c8",
   "metadata": {},
   "source": [
    "### Living situation group & goods"
   ]
  },
  {
   "cell_type": "code",
   "execution_count": 139,
   "id": "6c122269",
   "metadata": {},
   "outputs": [],
   "source": [
    "cross_living_goods = pd.crosstab(df_active['living'], df_active['department'].sort_values(), dropna = False)"
   ]
  },
  {
   "cell_type": "code",
   "execution_count": 140,
   "id": "294aeef2",
   "metadata": {},
   "outputs": [
    {
     "data": {
      "text/html": [
       "<div>\n",
       "<style scoped>\n",
       "    .dataframe tbody tr th:only-of-type {\n",
       "        vertical-align: middle;\n",
       "    }\n",
       "\n",
       "    .dataframe tbody tr th {\n",
       "        vertical-align: top;\n",
       "    }\n",
       "\n",
       "    .dataframe thead th {\n",
       "        text-align: right;\n",
       "    }\n",
       "</style>\n",
       "<table border=\"1\" class=\"dataframe\">\n",
       "  <thead>\n",
       "    <tr style=\"text-align: right;\">\n",
       "      <th>department</th>\n",
       "      <th>alcohol</th>\n",
       "      <th>babies</th>\n",
       "      <th>bakery</th>\n",
       "      <th>beverages</th>\n",
       "      <th>breakfast</th>\n",
       "      <th>bulk</th>\n",
       "      <th>canned goods</th>\n",
       "      <th>dairy eggs</th>\n",
       "      <th>deli</th>\n",
       "      <th>dry goods pasta</th>\n",
       "      <th>frozen</th>\n",
       "      <th>household</th>\n",
       "      <th>international</th>\n",
       "      <th>meat seafood</th>\n",
       "      <th>missing</th>\n",
       "      <th>pantry</th>\n",
       "      <th>personal care</th>\n",
       "      <th>pets</th>\n",
       "      <th>produce</th>\n",
       "      <th>snacks</th>\n",
       "    </tr>\n",
       "    <tr>\n",
       "      <th>living</th>\n",
       "      <th></th>\n",
       "      <th></th>\n",
       "      <th></th>\n",
       "      <th></th>\n",
       "      <th></th>\n",
       "      <th></th>\n",
       "      <th></th>\n",
       "      <th></th>\n",
       "      <th></th>\n",
       "      <th></th>\n",
       "      <th></th>\n",
       "      <th></th>\n",
       "      <th></th>\n",
       "      <th></th>\n",
       "      <th></th>\n",
       "      <th></th>\n",
       "      <th></th>\n",
       "      <th></th>\n",
       "      <th></th>\n",
       "      <th></th>\n",
       "    </tr>\n",
       "  </thead>\n",
       "  <tbody>\n",
       "    <tr>\n",
       "      <th>living alone</th>\n",
       "      <td>36827</td>\n",
       "      <td>103328</td>\n",
       "      <td>281395</td>\n",
       "      <td>645341</td>\n",
       "      <td>166432</td>\n",
       "      <td>8000</td>\n",
       "      <td>251020</td>\n",
       "      <td>1294376</td>\n",
       "      <td>253382</td>\n",
       "      <td>204296</td>\n",
       "      <td>529348</td>\n",
       "      <td>171358</td>\n",
       "      <td>64461</td>\n",
       "      <td>165878</td>\n",
       "      <td>15935</td>\n",
       "      <td>443904</td>\n",
       "      <td>106205</td>\n",
       "      <td>23602</td>\n",
       "      <td>2284155</td>\n",
       "      <td>690438</td>\n",
       "    </tr>\n",
       "    <tr>\n",
       "      <th>shared living</th>\n",
       "      <td>107800</td>\n",
       "      <td>307064</td>\n",
       "      <td>839433</td>\n",
       "      <td>1926560</td>\n",
       "      <td>504418</td>\n",
       "      <td>25451</td>\n",
       "      <td>761054</td>\n",
       "      <td>3882806</td>\n",
       "      <td>750452</td>\n",
       "      <td>617840</td>\n",
       "      <td>1592383</td>\n",
       "      <td>528499</td>\n",
       "      <td>191530</td>\n",
       "      <td>508903</td>\n",
       "      <td>48833</td>\n",
       "      <td>1338801</td>\n",
       "      <td>318101</td>\n",
       "      <td>69458</td>\n",
       "      <td>6829529</td>\n",
       "      <td>2075968</td>\n",
       "    </tr>\n",
       "  </tbody>\n",
       "</table>\n",
       "</div>"
      ],
      "text/plain": [
       "department     alcohol  babies  bakery  beverages  breakfast   bulk  \\\n",
       "living                                                                \n",
       "living alone     36827  103328  281395     645341     166432   8000   \n",
       "shared living   107800  307064  839433    1926560     504418  25451   \n",
       "\n",
       "department     canned goods  dairy eggs    deli  dry goods pasta   frozen  \\\n",
       "living                                                                      \n",
       "living alone         251020     1294376  253382           204296   529348   \n",
       "shared living        761054     3882806  750452           617840  1592383   \n",
       "\n",
       "department     household  international  meat seafood  missing   pantry  \\\n",
       "living                                                                    \n",
       "living alone      171358          64461        165878    15935   443904   \n",
       "shared living     528499         191530        508903    48833  1338801   \n",
       "\n",
       "department     personal care   pets  produce   snacks  \n",
       "living                                                 \n",
       "living alone          106205  23602  2284155   690438  \n",
       "shared living         318101  69458  6829529  2075968  "
      ]
     },
     "execution_count": 140,
     "metadata": {},
     "output_type": "execute_result"
    }
   ],
   "source": [
    "cross_living_goods"
   ]
  },
  {
   "cell_type": "code",
   "execution_count": 141,
   "id": "73d75fb7",
   "metadata": {},
   "outputs": [
    {
     "data": {
      "text/plain": [
       "<matplotlib.legend.Legend at 0x1f605b15850>"
      ]
     },
     "execution_count": 141,
     "metadata": {},
     "output_type": "execute_result"
    },
    {
     "data": {
      "image/png": "[encoded data removed]",
      "text/plain": [
       "<Figure size 640x480 with 1 Axes>"
      ]
     },
     "metadata": {},
     "output_type": "display_data"
    }
   ],
   "source": [
    "bar_living_goods = cross_living_goods.plot.bar()\n",
    "plt.legend(loc='center left', bbox_to_anchor=(1.0, 0.5))"
   ]
  },
  {
   "cell_type": "markdown",
   "id": "7eeadcef",
   "metadata": {},
   "source": [
    "##### no specific tendencies detected"
   ]
  },
  {
   "cell_type": "code",
   "execution_count": 142,
   "id": "832cf4cb",
   "metadata": {},
   "outputs": [],
   "source": [
    "# export\n",
    "bar_living_goods.figure.savefig(os.path.join(path, '04 Analysis', 'Visualizations', 'bar_living_goods.png'))"
   ]
  },
  {
   "cell_type": "code",
   "execution_count": null,
   "id": "23a0430c",
   "metadata": {},
   "outputs": [],
   "source": []
  }
 ],
 "metadata": {
  "kernelspec": {
   "display_name": "Python 3 (ipykernel)",
   "language": "python",
   "name": "python3"
  },
  "language_info": {
   "codemirror_mode": {
    "name": "ipython",
    "version": 3
   },
   "file_extension": ".py",
   "mimetype": "text/x-python",
   "name": "python",
   "nbconvert_exporter": "python",
   "pygments_lexer": "ipython3",
   "version": "3.11.5"
  }
 },
 "nbformat": 4,
 "nbformat_minor": 5
}
