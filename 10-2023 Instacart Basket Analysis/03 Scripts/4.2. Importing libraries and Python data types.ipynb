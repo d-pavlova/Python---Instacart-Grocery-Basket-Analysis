{
 "cells": [
  {
   "cell_type": "markdown",
   "id": "3851e24c",
   "metadata": {},
   "source": [
    "## Importing libraries\n",
    "## Playing around\n",
    "## 4.2.7 3 ways to get 100\n",
    "## 4.2.8 Floating-point variables\n",
    "## 4.2.9 Concatenate strings\n",
    "## 4.2.10 Sentences of strings"
   ]
  },
  {
   "cell_type": "code",
   "execution_count": null,
   "id": "b72f2c35",
   "metadata": {},
   "outputs": [],
   "source": []
  },
  {
   "cell_type": "markdown",
   "id": "2595a0e5",
   "metadata": {},
   "source": [
    "## Importing libraries"
   ]
  },
  {
   "cell_type": "code",
   "execution_count": 1,
   "id": "0b8ec5c5",
   "metadata": {},
   "outputs": [],
   "source": [
    "# Import libraries\n",
    "import pandas as pd\n",
    "import numpy as np\n",
    "import os"
   ]
  },
  {
   "cell_type": "markdown",
   "id": "6e62fcbd",
   "metadata": {},
   "source": [
    "## Playing around"
   ]
  },
  {
   "cell_type": "code",
   "execution_count": 2,
   "id": "37852484",
   "metadata": {},
   "outputs": [],
   "source": [
    "x = 2"
   ]
  },
  {
   "cell_type": "code",
   "execution_count": 3,
   "id": "eccff67c",
   "metadata": {},
   "outputs": [
    {
     "data": {
      "text/plain": [
       "2"
      ]
     },
     "execution_count": 3,
     "metadata": {},
     "output_type": "execute_result"
    }
   ],
   "source": [
    "x"
   ]
  },
  {
   "cell_type": "code",
   "execution_count": 4,
   "id": "903fbab0",
   "metadata": {},
   "outputs": [
    {
     "name": "stdout",
     "output_type": "stream",
     "text": [
      "2\n"
     ]
    }
   ],
   "source": [
    "print(x)"
   ]
  },
  {
   "cell_type": "code",
   "execution_count": 5,
   "id": "965c0625",
   "metadata": {},
   "outputs": [
    {
     "data": {
      "text/plain": [
       "int"
      ]
     },
     "execution_count": 5,
     "metadata": {},
     "output_type": "execute_result"
    }
   ],
   "source": [
    "type(x)"
   ]
  },
  {
   "cell_type": "code",
   "execution_count": 6,
   "id": "d4216926",
   "metadata": {},
   "outputs": [],
   "source": [
    "y = 5.678"
   ]
  },
  {
   "cell_type": "code",
   "execution_count": 7,
   "id": "846a9565",
   "metadata": {},
   "outputs": [
    {
     "data": {
      "text/plain": [
       "float"
      ]
     },
     "execution_count": 7,
     "metadata": {},
     "output_type": "execute_result"
    }
   ],
   "source": [
    "type(y)"
   ]
  },
  {
   "cell_type": "code",
   "execution_count": 8,
   "id": "60037dfa",
   "metadata": {},
   "outputs": [],
   "source": [
    "z = 'Brazil'"
   ]
  },
  {
   "cell_type": "code",
   "execution_count": 9,
   "id": "34c7a7a2",
   "metadata": {},
   "outputs": [
    {
     "data": {
      "text/plain": [
       "str"
      ]
     },
     "execution_count": 9,
     "metadata": {},
     "output_type": "execute_result"
    }
   ],
   "source": [
    "type(z)"
   ]
  },
  {
   "cell_type": "code",
   "execution_count": 10,
   "id": "19e20a0d",
   "metadata": {},
   "outputs": [
    {
     "data": {
      "text/plain": [
       "str"
      ]
     },
     "execution_count": 10,
     "metadata": {},
     "output_type": "execute_result"
    }
   ],
   "source": [
    "type('Mania')"
   ]
  },
  {
   "cell_type": "code",
   "execution_count": 11,
   "id": "450f9950",
   "metadata": {},
   "outputs": [
    {
     "data": {
      "text/plain": [
       "bool"
      ]
     },
     "execution_count": 11,
     "metadata": {},
     "output_type": "execute_result"
    }
   ],
   "source": [
    "type(True)"
   ]
  },
  {
   "cell_type": "code",
   "execution_count": 12,
   "id": "1d23e4e6",
   "metadata": {},
   "outputs": [
    {
     "data": {
      "text/plain": [
       "bool"
      ]
     },
     "execution_count": 12,
     "metadata": {},
     "output_type": "execute_result"
    }
   ],
   "source": [
    "type(False)"
   ]
  },
  {
   "cell_type": "code",
   "execution_count": 13,
   "id": "67ed9dea",
   "metadata": {},
   "outputs": [
    {
     "data": {
      "text/plain": [
       "6"
      ]
     },
     "execution_count": 13,
     "metadata": {},
     "output_type": "execute_result"
    }
   ],
   "source": [
    "x+4"
   ]
  },
  {
   "cell_type": "code",
   "execution_count": 14,
   "id": "99c5ec8c",
   "metadata": {},
   "outputs": [
    {
     "data": {
      "text/plain": [
       "7.678"
      ]
     },
     "execution_count": 14,
     "metadata": {},
     "output_type": "execute_result"
    }
   ],
   "source": [
    "x+y"
   ]
  },
  {
   "cell_type": "code",
   "execution_count": 15,
   "id": "6f7eb686",
   "metadata": {},
   "outputs": [],
   "source": [
    "x=x+4"
   ]
  },
  {
   "cell_type": "code",
   "execution_count": 16,
   "id": "16450834",
   "metadata": {},
   "outputs": [
    {
     "name": "stdout",
     "output_type": "stream",
     "text": [
      "6\n"
     ]
    }
   ],
   "source": [
    "print(x)"
   ]
  },
  {
   "cell_type": "code",
   "execution_count": 17,
   "id": "de2eeec5",
   "metadata": {},
   "outputs": [],
   "source": [
    "a='Hello, '"
   ]
  },
  {
   "cell_type": "code",
   "execution_count": 18,
   "id": "7de6ca3a",
   "metadata": {},
   "outputs": [],
   "source": [
    "b='Marley'"
   ]
  },
  {
   "cell_type": "code",
   "execution_count": 19,
   "id": "e2cecc58",
   "metadata": {},
   "outputs": [
    {
     "data": {
      "text/plain": [
       "'Hello, Marley'"
      ]
     },
     "execution_count": 19,
     "metadata": {},
     "output_type": "execute_result"
    }
   ],
   "source": [
    "a+b"
   ]
  },
  {
   "cell_type": "code",
   "execution_count": 20,
   "id": "7d72f9d5",
   "metadata": {},
   "outputs": [],
   "source": [
    "n='potato'"
   ]
  },
  {
   "cell_type": "code",
   "execution_count": 21,
   "id": "d35ccced",
   "metadata": {},
   "outputs": [
    {
     "data": {
      "text/plain": [
       "'potatopotatopotatopotatopotatopotatopotatopotatopotatopotatopotatopotato'"
      ]
     },
     "execution_count": 21,
     "metadata": {},
     "output_type": "execute_result"
    }
   ],
   "source": [
    "n*12"
   ]
  },
  {
   "cell_type": "code",
   "execution_count": 22,
   "id": "f1a21d2d",
   "metadata": {},
   "outputs": [
    {
     "data": {
      "text/plain": [
       "False"
      ]
     },
     "execution_count": 22,
     "metadata": {},
     "output_type": "execute_result"
    }
   ],
   "source": [
    "x==y"
   ]
  },
  {
   "cell_type": "code",
   "execution_count": 23,
   "id": "f9b33c71",
   "metadata": {},
   "outputs": [
    {
     "data": {
      "text/plain": [
       "bool"
      ]
     },
     "execution_count": 23,
     "metadata": {},
     "output_type": "execute_result"
    }
   ],
   "source": [
    "type(x==y)"
   ]
  },
  {
   "cell_type": "markdown",
   "id": "40922126",
   "metadata": {},
   "source": [
    "## 4.2.7 3 ways to get 100"
   ]
  },
  {
   "cell_type": "code",
   "execution_count": 24,
   "id": "c52bafb5",
   "metadata": {},
   "outputs": [
    {
     "data": {
      "text/plain": [
       "100"
      ]
     },
     "execution_count": 24,
     "metadata": {},
     "output_type": "execute_result"
    }
   ],
   "source": [
    "30+70"
   ]
  },
  {
   "cell_type": "code",
   "execution_count": 25,
   "id": "e3b3cb46",
   "metadata": {},
   "outputs": [
    {
     "data": {
      "text/plain": [
       "100"
      ]
     },
     "execution_count": 25,
     "metadata": {},
     "output_type": "execute_result"
    }
   ],
   "source": [
    "200-80-20"
   ]
  },
  {
   "cell_type": "code",
   "execution_count": 26,
   "id": "2d3ec8c3",
   "metadata": {},
   "outputs": [
    {
     "data": {
      "text/plain": [
       "90"
      ]
     },
     "execution_count": 26,
     "metadata": {},
     "output_type": "execute_result"
    }
   ],
   "source": [
    "50+70-30"
   ]
  },
  {
   "cell_type": "code",
   "execution_count": 27,
   "id": "3bcb9d7a",
   "metadata": {},
   "outputs": [
    {
     "data": {
      "text/plain": [
       "'oooops'"
      ]
     },
     "execution_count": 27,
     "metadata": {},
     "output_type": "execute_result"
    }
   ],
   "source": [
    "'oooops'"
   ]
  },
  {
   "cell_type": "code",
   "execution_count": 28,
   "id": "19c635d4",
   "metadata": {},
   "outputs": [
    {
     "data": {
      "text/plain": [
       "100"
      ]
     },
     "execution_count": 28,
     "metadata": {},
     "output_type": "execute_result"
    }
   ],
   "source": [
    "50+70-20"
   ]
  },
  {
   "cell_type": "markdown",
   "id": "415baf10",
   "metadata": {},
   "source": [
    "## 4.2.8 Floating-point variables"
   ]
  },
  {
   "cell_type": "code",
   "execution_count": 29,
   "id": "7cd0bcf4",
   "metadata": {},
   "outputs": [],
   "source": [
    "c=5.2"
   ]
  },
  {
   "cell_type": "code",
   "execution_count": 30,
   "id": "5c16988a",
   "metadata": {},
   "outputs": [],
   "source": [
    "d=3.2"
   ]
  },
  {
   "cell_type": "code",
   "execution_count": 31,
   "id": "2101b25d",
   "metadata": {},
   "outputs": [
    {
     "data": {
      "text/plain": [
       "1.625"
      ]
     },
     "execution_count": 31,
     "metadata": {},
     "output_type": "execute_result"
    }
   ],
   "source": [
    "c/d"
   ]
  },
  {
   "cell_type": "markdown",
   "id": "ec293f2b",
   "metadata": {},
   "source": [
    "## 4.2.9 Concatenate strings"
   ]
  },
  {
   "cell_type": "code",
   "execution_count": 32,
   "id": "3d61ba7e",
   "metadata": {},
   "outputs": [],
   "source": [
    "e='Exer'"
   ]
  },
  {
   "cell_type": "code",
   "execution_count": 33,
   "id": "373a5192",
   "metadata": {},
   "outputs": [],
   "source": [
    "f='cise'"
   ]
  },
  {
   "cell_type": "code",
   "execution_count": 34,
   "id": "6de9cc1f",
   "metadata": {},
   "outputs": [
    {
     "data": {
      "text/plain": [
       "'Exercise'"
      ]
     },
     "execution_count": 34,
     "metadata": {},
     "output_type": "execute_result"
    }
   ],
   "source": [
    "e+f"
   ]
  },
  {
   "cell_type": "markdown",
   "id": "9b3003c0",
   "metadata": {},
   "source": [
    "## 4.2.10 Sentences of strings"
   ]
  },
  {
   "cell_type": "code",
   "execution_count": 39,
   "id": "8ea585cc",
   "metadata": {},
   "outputs": [],
   "source": [
    "g='It is '"
   ]
  },
  {
   "cell_type": "code",
   "execution_count": 41,
   "id": "091dc7de",
   "metadata": {},
   "outputs": [],
   "source": [
    "h='not '"
   ]
  },
  {
   "cell_type": "code",
   "execution_count": 37,
   "id": "972b0fba",
   "metadata": {},
   "outputs": [],
   "source": [
    "i='cold outside'"
   ]
  },
  {
   "cell_type": "code",
   "execution_count": 40,
   "id": "01710541",
   "metadata": {},
   "outputs": [
    {
     "data": {
      "text/plain": [
       "'It is cold outside'"
      ]
     },
     "execution_count": 40,
     "metadata": {},
     "output_type": "execute_result"
    }
   ],
   "source": [
    "g+i"
   ]
  },
  {
   "cell_type": "code",
   "execution_count": 42,
   "id": "579b8498",
   "metadata": {},
   "outputs": [
    {
     "data": {
      "text/plain": [
       "'It is not cold outside'"
      ]
     },
     "execution_count": 42,
     "metadata": {},
     "output_type": "execute_result"
    }
   ],
   "source": [
    "g+h+i"
   ]
  },
  {
   "cell_type": "code",
   "execution_count": null,
   "id": "fe9062c8",
   "metadata": {},
   "outputs": [],
   "source": []
  }
 ],
 "metadata": {
  "kernelspec": {
   "display_name": "Python 3 (ipykernel)",
   "language": "python",
   "name": "python3"
  },
  "language_info": {
   "codemirror_mode": {
    "name": "ipython",
    "version": 3
   },
   "file_extension": ".py",
   "mimetype": "text/x-python",
   "name": "python",
   "nbconvert_exporter": "python",
   "pygments_lexer": "ipython3",
   "version": "3.11.5"
  }
 },
 "nbformat": 4,
 "nbformat_minor": 5
}
